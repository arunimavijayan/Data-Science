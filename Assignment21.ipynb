{
 "cells": [
  {
   "cell_type": "markdown",
   "id": "9120dfa2",
   "metadata": {},
   "source": [
    "1. Add the current date to the text file today.txt as a string.\n",
    "\n",
    "import datetime\n",
    "dt= datetime.datetime.now()\n",
    "f=open(\"today.txt\",\"w\")\n",
    "f.write(str(dt))\n",
    "f.close()\n",
    "\n",
    "2. Read the text file today.txt into the string today_string\n",
    "\n",
    "today_string=f.read()\n",
    "\n",
    "3. Parse the date from today_string.\n",
    "\n",
    "import re\n",
    "matches = re.findall(r'(\\d+-\\d+-\\d+)',today_string)\n",
    "print(matches)\n",
    "\n",
    "4. List the files in your current directory\n",
    "\n",
    "import os\n",
    "os.listdir()\n",
    "\n",
    "5. Create a list of all of the files in your parent directory (minimum five files should be available).\n",
    "\n",
    "import os\n",
    "li=[]\n",
    "for i in os.listdir():\n",
    "    li.append(i)\n",
    "print(li) \n",
    "\n",
    "6. Use multiprocessing to create three separate processes. Make each one wait a random number of seconds between one and five, print the current time, and then exit.\n",
    "\n",
    "import multiprocessing,datetime\n",
    "from time import sleep\n",
    "import random\n",
    "def now(sec):\n",
    "    sleep(sec)\n",
    "    print('wait',sec,'seconds,time is',datetime.datetime.utcnow())\n",
    "\n",
    "\n",
    "if __name__==\"__main__\":\n",
    "    for n in range(3):\n",
    "        sec=random.random()\n",
    "        proc=multiprocessing.Process(target=now,args=(sec,))\n",
    "        proc.start()\n",
    "\n",
    "\n",
    "7. Create a date object of your day of birth.\n",
    "\n",
    "from datetime import date\n",
    "myday=date(1998,6,21)\n",
    "myday\n",
    "\n",
    "8. What day of the week was your day of birth?\n",
    "\n",
    "myday.weekday()\n",
    "\n",
    "9. When will you be (or when were you) 10,000 days old?\n",
    "\n",
    "p=myday+timedelta(10000)\n"
   ]
  },
  {
   "cell_type": "code",
   "execution_count": 28,
   "id": "e589d50a",
   "metadata": {},
   "outputs": [
    {
     "data": {
      "text/plain": [
       "6"
      ]
     },
     "execution_count": 28,
     "metadata": {},
     "output_type": "execute_result"
    }
   ],
   "source": [
    "from datetime import date,timedelta\n",
    "myday=date(1998,6,21)\n",
    "myday\n",
    "myday.weekday()"
   ]
  },
  {
   "cell_type": "code",
   "execution_count": 29,
   "id": "ef4e2932",
   "metadata": {},
   "outputs": [
    {
     "data": {
      "text/plain": [
       "datetime.date(2025, 11, 6)"
      ]
     },
     "execution_count": 29,
     "metadata": {},
     "output_type": "execute_result"
    }
   ],
   "source": [
    "p=myday+timedelta(10000)\n",
    "p"
   ]
  },
  {
   "cell_type": "code",
   "execution_count": 23,
   "id": "359b8c6d",
   "metadata": {},
   "outputs": [],
   "source": [
    "# from zoo\n",
    "def process1():\n",
    "    t1 = random.randint(1,5)\n",
    "    print(\"Waiting for \"+str(t1)+\" seconds\")\n",
    "    time.sleep(t1)\n",
    "    print(datetime.datetime.now())"
   ]
  },
  {
   "cell_type": "code",
   "execution_count": 24,
   "id": "adbb2d9c",
   "metadata": {},
   "outputs": [
    {
     "ename": "ModuleNotFoundError",
     "evalue": "No module named 'zoo'",
     "output_type": "error",
     "traceback": [
      "\u001b[1;31m---------------------------------------------------------------------------\u001b[0m",
      "\u001b[1;31mModuleNotFoundError\u001b[0m                       Traceback (most recent call last)",
      "Input \u001b[1;32mIn [24]\u001b[0m, in \u001b[0;36m<cell line: 4>\u001b[1;34m()\u001b[0m\n\u001b[0;32m      1\u001b[0m \u001b[38;5;66;03m# 6) Use multiprocessing to create three separate processes. Make each one wait a random number \u001b[39;00m\n\u001b[0;32m      2\u001b[0m \u001b[38;5;66;03m# of seconds between one and five, print the current time, and then exit. \u001b[39;00m\n\u001b[0;32m      3\u001b[0m \u001b[38;5;28;01mimport\u001b[39;00m \u001b[38;5;21;01mmultiprocessing\u001b[39;00m\u001b[38;5;241m,\u001b[39m\u001b[38;5;21;01mtime\u001b[39;00m\u001b[38;5;241m,\u001b[39m\u001b[38;5;21;01mdatetime\u001b[39;00m\n\u001b[1;32m----> 4\u001b[0m \u001b[38;5;28;01mimport\u001b[39;00m \u001b[38;5;21;01mzoo\u001b[39;00m\n\u001b[0;32m      6\u001b[0m \u001b[38;5;66;03m# from zoo\u001b[39;00m\n\u001b[0;32m      7\u001b[0m \u001b[38;5;66;03m# def process1():\u001b[39;00m\n\u001b[0;32m      8\u001b[0m \u001b[38;5;66;03m#     t1 = random.randint(1,5)\u001b[39;00m\n\u001b[0;32m      9\u001b[0m \u001b[38;5;66;03m#     print(\"Waiting for \"+str(t1)+\" seconds\")\u001b[39;00m\n\u001b[0;32m     10\u001b[0m \u001b[38;5;66;03m#     time.sleep(t1)\u001b[39;00m\n\u001b[0;32m     11\u001b[0m \u001b[38;5;66;03m#     print(datetime.datetime.now())\u001b[39;00m\n\u001b[0;32m     14\u001b[0m start \u001b[38;5;241m=\u001b[39m time\u001b[38;5;241m.\u001b[39mtime()\n",
      "\u001b[1;31mModuleNotFoundError\u001b[0m: No module named 'zoo'"
     ]
    }
   ],
   "source": [
    "# 6) Use multiprocessing to create three separate processes. Make each one wait a random number \n",
    "# of seconds between one and five, print the current time, and then exit. \n",
    "import multiprocessing,time,datetime\n",
    "import zoo\n",
    "\n",
    "# from zoo\n",
    "# def process1():\n",
    "#     t1 = random.randint(1,5)\n",
    "#     print(\"Waiting for \"+str(t1)+\" seconds\")\n",
    "#     time.sleep(t1)\n",
    "#     print(datetime.datetime.now())\n",
    "\n",
    "\n",
    "start = time.time()\n",
    "process1 = zoo.process1()\n",
    "process2 = zoo.process1()\n",
    "process3 = zoo.process1()\n",
    "\n",
    "print(datetime.datetime.now())\n",
    "if __name__==\"__main__\":\n",
    "\n",
    "\n",
    "\n",
    "    p1 = multiprocessing.Process(target=process1)\n",
    "    p2 = multiprocessing.Process(target=process2)\n",
    "    p3 = multiprocessing.Process(target=process3)\n",
    "\n",
    "    p1.start()\n",
    "    p2.start()\n",
    "    p3.start()\n",
    "\n",
    "    p1.join()\n",
    "    p2.join()\n",
    "    p3.join()\n",
    "\n",
    "end = time.time()\n",
    "\n",
    "\n",
    "print(\"It takes \" +str(end-start)+\" seconds\")"
   ]
  },
  {
   "cell_type": "code",
   "execution_count": null,
   "id": "f41c02ff",
   "metadata": {},
   "outputs": [],
   "source": []
  },
  {
   "cell_type": "code",
   "execution_count": 6,
   "id": "294ccb33",
   "metadata": {},
   "outputs": [
    {
     "data": {
      "text/plain": [
       "26"
      ]
     },
     "execution_count": 6,
     "metadata": {},
     "output_type": "execute_result"
    }
   ],
   "source": [
    "import datetime\n",
    "dt= datetime.datetime.now()\n",
    "f=open(\"Ass21.txt\",\"w+\")\n",
    "f.write(str(dt))\n",
    "\n"
   ]
  },
  {
   "cell_type": "code",
   "execution_count": 12,
   "id": "33efa759",
   "metadata": {},
   "outputs": [
    {
     "data": {
      "text/plain": [
       "0"
      ]
     },
     "execution_count": 12,
     "metadata": {},
     "output_type": "execute_result"
    }
   ],
   "source": [
    "f.seek()"
   ]
  },
  {
   "cell_type": "code",
   "execution_count": 13,
   "id": "8f593531",
   "metadata": {},
   "outputs": [],
   "source": [
    "today_string=''\n",
    "today_string=f.read()"
   ]
  },
  {
   "cell_type": "code",
   "execution_count": 14,
   "id": "84ee9a65",
   "metadata": {},
   "outputs": [
    {
     "data": {
      "text/plain": [
       "'2022-07-04 18:34:53.145654'"
      ]
     },
     "execution_count": 14,
     "metadata": {},
     "output_type": "execute_result"
    }
   ],
   "source": [
    "today_string"
   ]
  },
  {
   "cell_type": "code",
   "execution_count": 17,
   "id": "8285a39e",
   "metadata": {},
   "outputs": [
    {
     "name": "stdout",
     "output_type": "stream",
     "text": [
      "['2022-07-04']\n"
     ]
    }
   ],
   "source": [
    "import re\n",
    "matches = re.findall(r'(\\d+-\\d+-\\d+)',today_string)\n",
    "print(matches)"
   ]
  },
  {
   "cell_type": "code",
   "execution_count": 18,
   "id": "d88c8e51",
   "metadata": {},
   "outputs": [
    {
     "data": {
      "text/plain": [
       "['.anaconda',\n",
       " '.android',\n",
       " '.bash_history',\n",
       " '.conda',\n",
       " '.condarc',\n",
       " '.config',\n",
       " '.continuum',\n",
       " '.eclipse',\n",
       " '.emulator_console_auth_token',\n",
       " '.expo',\n",
       " '.gitconfig',\n",
       " '.ipynb_checkpoints',\n",
       " '.ipython',\n",
       " '.jupyter',\n",
       " '.node_repl_history',\n",
       " '.npmrc',\n",
       " '.p2',\n",
       " '.sonarlint',\n",
       " '.ssh',\n",
       " '.tooling',\n",
       " '.vscode',\n",
       " '.yarnrc',\n",
       " '00-Warm-Up-Project-Exercises.ipynb',\n",
       " '01-Milestone Project 1 - Assignment.ipynb',\n",
       " '02-Milestone Project 1 - Walkthrough Steps Workbook.ipynb',\n",
       " '02-Milestone Project 2 - Walkthrough Steps Workbook.ipynb',\n",
       " '03-Function Practice Exercises.ipynb',\n",
       " '03-Milestone Project 1 - Complete Walkthrough Solution.ipynb',\n",
       " '2julylive class oop.ipynb',\n",
       " '3D Objects',\n",
       " 'anaconda3',\n",
       " 'angular_training',\n",
       " 'AppData',\n",
       " 'Application Data',\n",
       " 'Ass21.txt',\n",
       " 'Assign4.java',\n",
       " 'Assignment 2.ipynb',\n",
       " 'Assignment1.ipynb',\n",
       " 'Assignment10.ipynb',\n",
       " 'Assignment11.ipynb',\n",
       " 'Assignment12.ipynb',\n",
       " 'Assignment22.ipynb',\n",
       " 'Assignment23.ipynb',\n",
       " 'Assignment24.ipynb',\n",
       " 'Assignment25.ipynb',\n",
       " 'Assignment3.ipynb',\n",
       " 'Assignment4.ipynb',\n",
       " 'Assignment5.ipynb',\n",
       " 'Assignment6.ipynb',\n",
       " 'Assignment7.ipynb',\n",
       " 'Assignment8.ipynb',\n",
       " 'Assignment9.ipynb',\n",
       " 'Bus-Tracker-CMS',\n",
       " 'Contacts',\n",
       " 'Cookies',\n",
       " 'Documents',\n",
       " 'Downloads',\n",
       " 'Favorites',\n",
       " 'firb.java',\n",
       " 'first.java',\n",
       " 'gradesheet.pdf',\n",
       " 'IBA_IOAPDATA',\n",
       " 'inp.java',\n",
       " 'IntelGraphicsProfiles',\n",
       " 'KSRTC-Bus-Tracking-User-UI',\n",
       " 'Links',\n",
       " 'Local Settings',\n",
       " 'MicrosoftEdgeBackups',\n",
       " 'Music',\n",
       " 'My Documents',\n",
       " 'my-app',\n",
       " 'NetHood',\n",
       " 'node-v16.15.0-x64.msi',\n",
       " 'node_modules',\n",
       " 'NTUSER.DAT',\n",
       " 'ntuser.dat.LOG1',\n",
       " 'ntuser.dat.LOG2',\n",
       " 'NTUSER.DAT{b7b98423-445c-11eb-8b2d-8593ce26942f}.TM.blf',\n",
       " 'NTUSER.DAT{b7b98423-445c-11eb-8b2d-8593ce26942f}.TMContainer00000000000000000001.regtrans-ms',\n",
       " 'NTUSER.DAT{b7b98423-445c-11eb-8b2d-8593ce26942f}.TMContainer00000000000000000002.regtrans-ms',\n",
       " 'ntuser.ini',\n",
       " 'nvm-setup',\n",
       " 'nvm-setup.zip',\n",
       " 'OneDrive',\n",
       " 'PrintHood',\n",
       " 'Programming_Assignment 1.ipynb',\n",
       " 'Programming_Assignment10.ipynb',\n",
       " 'Programming_Assignment11.ipynb',\n",
       " 'Programming_Assignment12.ipynb',\n",
       " 'Programming_Assignment13.ipynb',\n",
       " 'Programming_Assignment14.ipynb',\n",
       " 'Programming_Assignment15.ipynb',\n",
       " 'programming_Assignment2.ipynb',\n",
       " 'Programming_Assignment3.ipynb',\n",
       " 'programming_assignment4.ipynb',\n",
       " 'Programming_Assignment5.ipynb',\n",
       " 'Programming_Assignment6.ipynb',\n",
       " 'Programming_Assignment7.ipynb',\n",
       " 'Programming_Assignment8.ipynb',\n",
       " 'Programming_Assignment9.ipynb',\n",
       " 'provisionalcert.pdf',\n",
       " 'Recent',\n",
       " 'Saved Games',\n",
       " 'Searches',\n",
       " 'SendTo',\n",
       " 'Start Menu',\n",
       " 'suj.docx',\n",
       " 'Templates',\n",
       " 'Tester.java',\n",
       " 'Tracing',\n",
       " 'TraineeDetails.java',\n",
       " 'Untitled.ipynb',\n",
       " 'Untitled1.ipynb',\n",
       " 'Videos',\n",
       " 'yarn.lock']"
      ]
     },
     "execution_count": 18,
     "metadata": {},
     "output_type": "execute_result"
    }
   ],
   "source": [
    "import os\n",
    "os.listdir()"
   ]
  },
  {
   "cell_type": "code",
   "execution_count": 19,
   "id": "cc68de70",
   "metadata": {},
   "outputs": [
    {
     "name": "stdout",
     "output_type": "stream",
     "text": [
      "['.anaconda', '.android', '.bash_history', '.conda', '.condarc', '.config', '.continuum', '.eclipse', '.emulator_console_auth_token', '.expo', '.gitconfig', '.ipynb_checkpoints', '.ipython', '.jupyter', '.node_repl_history', '.npmrc', '.p2', '.sonarlint', '.ssh', '.tooling', '.vscode', '.yarnrc', '00-Warm-Up-Project-Exercises.ipynb', '01-Milestone Project 1 - Assignment.ipynb', '02-Milestone Project 1 - Walkthrough Steps Workbook.ipynb', '02-Milestone Project 2 - Walkthrough Steps Workbook.ipynb', '03-Function Practice Exercises.ipynb', '03-Milestone Project 1 - Complete Walkthrough Solution.ipynb', '2julylive class oop.ipynb', '3D Objects', 'anaconda3', 'angular_training', 'AppData', 'Application Data', 'Ass21.txt', 'Assign4.java', 'Assignment 2.ipynb', 'Assignment1.ipynb', 'Assignment10.ipynb', 'Assignment11.ipynb', 'Assignment12.ipynb', 'Assignment22.ipynb', 'Assignment23.ipynb', 'Assignment24.ipynb', 'Assignment25.ipynb', 'Assignment3.ipynb', 'Assignment4.ipynb', 'Assignment5.ipynb', 'Assignment6.ipynb', 'Assignment7.ipynb', 'Assignment8.ipynb', 'Assignment9.ipynb', 'Bus-Tracker-CMS', 'Contacts', 'Cookies', 'Documents', 'Downloads', 'Favorites', 'firb.java', 'first.java', 'gradesheet.pdf', 'IBA_IOAPDATA', 'inp.java', 'IntelGraphicsProfiles', 'KSRTC-Bus-Tracking-User-UI', 'Links', 'Local Settings', 'MicrosoftEdgeBackups', 'Music', 'My Documents', 'my-app', 'NetHood', 'node-v16.15.0-x64.msi', 'node_modules', 'NTUSER.DAT', 'ntuser.dat.LOG1', 'ntuser.dat.LOG2', 'NTUSER.DAT{b7b98423-445c-11eb-8b2d-8593ce26942f}.TM.blf', 'NTUSER.DAT{b7b98423-445c-11eb-8b2d-8593ce26942f}.TMContainer00000000000000000001.regtrans-ms', 'NTUSER.DAT{b7b98423-445c-11eb-8b2d-8593ce26942f}.TMContainer00000000000000000002.regtrans-ms', 'ntuser.ini', 'nvm-setup', 'nvm-setup.zip', 'OneDrive', 'PrintHood', 'Programming_Assignment 1.ipynb', 'Programming_Assignment10.ipynb', 'Programming_Assignment11.ipynb', 'Programming_Assignment12.ipynb', 'Programming_Assignment13.ipynb', 'Programming_Assignment14.ipynb', 'Programming_Assignment15.ipynb', 'programming_Assignment2.ipynb', 'Programming_Assignment3.ipynb', 'programming_assignment4.ipynb', 'Programming_Assignment5.ipynb', 'Programming_Assignment6.ipynb', 'Programming_Assignment7.ipynb', 'Programming_Assignment8.ipynb', 'Programming_Assignment9.ipynb', 'provisionalcert.pdf', 'Recent', 'Saved Games', 'Searches', 'SendTo', 'Start Menu', 'suj.docx', 'Templates', 'Tester.java', 'Tracing', 'TraineeDetails.java', 'Untitled.ipynb', 'Untitled1.ipynb', 'Videos', 'yarn.lock']\n"
     ]
    }
   ],
   "source": [
    "import os\n",
    "li=[]\n",
    "for i in os.listdir():\n",
    "    li.append(i)\n",
    "print(li)   "
   ]
  },
  {
   "cell_type": "code",
   "execution_count": null,
   "id": "48598e64",
   "metadata": {},
   "outputs": [],
   "source": []
  }
 ],
 "metadata": {
  "kernelspec": {
   "display_name": "Python 3 (ipykernel)",
   "language": "python",
   "name": "python3"
  },
  "language_info": {
   "codemirror_mode": {
    "name": "ipython",
    "version": 3
   },
   "file_extension": ".py",
   "mimetype": "text/x-python",
   "name": "python",
   "nbconvert_exporter": "python",
   "pygments_lexer": "ipython3",
   "version": "3.9.12"
  }
 },
 "nbformat": 4,
 "nbformat_minor": 5
}
