{
 "cells": [
  {
   "cell_type": "markdown",
   "id": "011d9b5d",
   "metadata": {},
   "source": [
    "1. What are escape characters, and how do you use them?\n",
    "\n",
    "Escape characters is a special character denoted by backslash\\ they are used to insert characters that are illegal in string.e.g use\\t for tab, \\n for newline.use \\ before any character that you want to escape.\n",
    "\n",
    "2. What do the escape characters n and t stand for?\n",
    "\n",
    "n->newline\n",
    "t->tab\n",
    "\n",
    "3. What is the way to include backslash characters in a string?\n",
    "\n",
    "By prefixing the backslash character by another backslash we can include that in string.\n",
    "\n",
    "4. The string \"Howl's Moving Castle\" is a correct value. Why isn't the single quote character in the word Howl's not escaped a problem?\n",
    "\n",
    "It is because we have use double quotes to mark the start and end of the string.\n",
    "\n",
    "5. How do you write a string of newlines if you don't want to use the n character?\n",
    "\n",
    "Multiline strings allow you to use newlines in strings without the n  character.\n",
    "\n",
    "6. What are the values of the given expressions?\n",
    "'Hello, world!'[1]------------------->'e'\n",
    "'Hello, world!'[0:5]----------------->'Hello'\n",
    "'Hello, world!'[:5]------------------>'Hello'\n",
    "'Hello, world!'[3:]------------------>'lo, world!'\n",
    "\n",
    "7. What are the values of the following expressions?\n",
    "'Hello'.upper()--------------->'HELLO'\n",
    "'Hello'.upper().isupper()----->True\n",
    "'Hello'.upper().lower()-------->'hello'\n",
    "\n",
    "\n",
    "8. What are the values of the following expressions?\n",
    "'Remember, remember, the fifth of July.'.split()---->['Remember,', 'remember,', 'the', 'fifth', 'of', 'July.']\n",
    "\n",
    "\n",
    "'-'.join('There can only one.'.split())------>'There-can-only-one.'\n",
    "\n",
    "9. What are the methods for right-justifying, left-justifying, and centering a string?\n",
    "\n",
    "rjust(),ljust(),center()\n",
    "\n",
    "10. What is the best way to remove whitespace characters from the start or end?\n",
    "\n",
    "strip() is the best way.lstrip(),rstrip() can be indicidually used to separately remove left and right side whitespace.\n",
    "\n"
   ]
  }
 ],
 "metadata": {
  "kernelspec": {
   "display_name": "Python 3 (ipykernel)",
   "language": "python",
   "name": "python3"
  },
  "language_info": {
   "codemirror_mode": {
    "name": "ipython",
    "version": 3
   },
   "file_extension": ".py",
   "mimetype": "text/x-python",
   "name": "python",
   "nbconvert_exporter": "python",
   "pygments_lexer": "ipython3",
   "version": "3.9.12"
  }
 },
 "nbformat": 4,
 "nbformat_minor": 5
}
