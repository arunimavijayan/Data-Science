{
 "cells": [
  {
   "cell_type": "markdown",
   "id": "7bce0a35",
   "metadata": {},
   "source": [
    "Q1. What is the purpose of Python's OOP?\n",
    "\n",
    "Object-oriented programming is a programming paradigm that provides a means of structuring programs so that properties and behaviors are bundled into individual objects\n",
    "OOPs uses objects and classes in programming.\n",
    "It aims to implement real-world entities like inheritance, polymorphisms, encapsulation, etc. in the programming.\n",
    "The main concept of OOPs is to bind the data and the functions that work on that together as a single unit so that no other part of the code can access this data.\n",
    "\n",
    "Q2. Where does an inheritance search look for an attribute?\n",
    "\n",
    "Python searches for an attribute in an upward tree of attributes. It first searches for the attribute in its instance and then looks in the class it is generated from i.e. to all parent classes listed in its class header\n",
    "\n",
    "Q3. How do you distinguish between a class object and an instance object?\n",
    "\n",
    "Class is a template for creating objects whereas object is an instance of class\n",
    "Seperate memory is allocated for each object whenever an object is created. but for a class this doesnot happens.\n",
    "A Class is created once. Many objects are created using a class.\n",
    "As Classes have no allocated memory. they can't be manipulated. but objects can be manipulated.\n",
    "\n",
    "Q4. What makes the first argument in a class’s method function special?\n",
    "\n",
    "self is the first argument for instance methods, which refers to the object itself.A name other than self can also be used .\n",
    "\n",
    "Q5. What is the purpose of the __init__ method?\n",
    "\n",
    "__init__ is a reseved method in python classes. It serves the role of a constructor in object oriented terminology. This method is called when an object is created from a class and it allows the class to initialize the attributes of the class\n",
    "\n",
    "Q6. What is the process for creating a class instance?\n",
    "\n",
    "To create a class instance, we need to call the class by its name and pass the arguments to the class, which its init method accepts.\n",
    "Example: obj=Class1(\"Arunima\") Here obj is an instance of class Class1 with attribute \"Arunima\" \n",
    "\n",
    "Q7. What is the process for creating a class?\n",
    "\n",
    "class keyword is used to created a class in python. The syntax to create a class in python is class <classname>:\n",
    "Example: class Animal: ➞ this creates a class called Animal\n",
    "\n",
    "Q8. How would you define the superclasses of a class?\n",
    "    \n",
    "    \n",
    "Superclass/Parent class is given as a arugment to the child class\n",
    "Example: class Employee(Person): Here child class Employee inherits attributes and methods/functions from Superclass/Parent Person    "
   ]
  }
 ],
 "metadata": {
  "kernelspec": {
   "display_name": "Python 3 (ipykernel)",
   "language": "python",
   "name": "python3"
  },
  "language_info": {
   "codemirror_mode": {
    "name": "ipython",
    "version": 3
   },
   "file_extension": ".py",
   "mimetype": "text/x-python",
   "name": "python",
   "nbconvert_exporter": "python",
   "pygments_lexer": "ipython3",
   "version": "3.9.12"
  }
 },
 "nbformat": 4,
 "nbformat_minor": 5
}
