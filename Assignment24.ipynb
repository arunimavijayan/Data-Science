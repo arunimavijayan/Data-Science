{
 "cells": [
  {
   "cell_type": "markdown",
   "id": "0c457829",
   "metadata": {},
   "source": [
    "1. What is the relationship between def statements and lambda expressions ?\n",
    "\n",
    "lambda returns a value that can optionally be assigned a name while the def statement always assigns the new name to function  in the header, instead of returning it as a result.lambda's body is a single expression, not a block of statements while def consist of 1 or more statements inside block\n",
    "\n",
    "2. What is the benefit of lambda?\n",
    "\n",
    "Lambda functions allow you to create small, single-use functions that saves time and space in code. They are also useful when we need to call a function that expects a function as an argument for a callback such as Map() and Filter().\n",
    "\n",
    "3. Compare and contrast map, filter, and reduce.\n",
    "\n",
    "The map() function iterates through all items in the given iterable and executes the function we passed as an argument on each of them.filter() forms a new list that contains only elements that satisfy a certain condition.reduce() does not return a new list based on the function and iterable we've passed. Instead, it returns a single value.\n",
    "\n",
    "4. What are function annotations, and how are they used?\n",
    "\n",
    "Function annotations are arbitrary python expressions that are associated with various part of functions, can pass it as data types of the parameters\n",
    "\n",
    "5. What are recursive functions, and how are they used?\n",
    "\n",
    "A recursive function is a function in code that refers to itself for execution.It can be used to solve tasks in in a simple way When a function calls itself, that's called a recursion step. The basis of recursion is  that  the function does not make further calls\n",
    "\n",
    "6. What are some general design guidelines for coding functions?\n",
    "\n",
    "Safe: It can be used without causing harm.\n",
    "Secure: It can't be hacked.\n",
    "Reliable: It functions as it should, every time.\n",
    "Testable: It can be tested at the code level.\n",
    "Maintainable: It can be maintained, even as your codebase grows\n",
    "\n",
    "7. Name three or more ways that functions can communicate results to a caller.\n",
    "\n",
    "1)by name , 2)using return type, 3)type of arguments\n"
   ]
  }
 ],
 "metadata": {
  "kernelspec": {
   "display_name": "Python 3 (ipykernel)",
   "language": "python",
   "name": "python3"
  },
  "language_info": {
   "codemirror_mode": {
    "name": "ipython",
    "version": 3
   },
   "file_extension": ".py",
   "mimetype": "text/x-python",
   "name": "python",
   "nbconvert_exporter": "python",
   "pygments_lexer": "ipython3",
   "version": "3.9.12"
  }
 },
 "nbformat": 4,
 "nbformat_minor": 5
}
