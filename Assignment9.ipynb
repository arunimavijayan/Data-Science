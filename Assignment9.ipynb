{
 "cells": [
  {
   "cell_type": "markdown",
   "id": "9cc3e3c6",
   "metadata": {},
   "source": [
    "1. To what does a relative path refer?\n",
    "\n",
    "It refers to a location that is relative to a current directory using . and ..\n",
    "\n",
    "2. What does an absolute path start with your operating system?\n",
    "\n",
    "It is a path that contains the entire path to the file or directory that is needed to be accessed, which  will begin at the home directory of your computer and will end with the file or directory that is desired.\n",
    "\n",
    "3. What do the functions os.getcwd() and os.chdir() do?\n",
    "\n",
    "os.getcwd()-> allows you to see what your current working directory is.\n",
    "os.chdir()->function allows you to set the current working directory to a path of your choice(change directory)\n",
    "\n",
    "4. What are the . and .. folders?\n",
    "\n",
    " . is the current folder, while .. is the parent folder\n",
    "\n",
    "5. In C:\\bacon\\eggs\\spam.txt, which part is the dir name, and which part is the base name?\n",
    "\n",
    "C:\\bacon\\eggs is the dir name, while spam.txt is the base name.\n",
    "\n",
    "6. What are the three “mode” arguments that can be passed to the open() function?\n",
    "\n",
    " 'r'->read mode, 'w'->write mode, and 'a'->append mode\n",
    "\n",
    "7. What happens if an existing file is opened in write mode?\n",
    "\n",
    "It is erased and completely overwritten.\n",
    "\n",
    "8. How do you tell the difference between read() and readlines()?\n",
    "\n",
    "read() returns the file's entire contents as a single string value whereas readlines() returns a list of strings, where each string is a line from the file's contents.\n",
    "\n",
    "9. What data structure does a shelf value resemble?\n",
    "\n",
    " resembles a dictionary since it has keys and values along with corresponding function similar to it.\n"
   ]
  }
 ],
 "metadata": {
  "kernelspec": {
   "display_name": "Python 3 (ipykernel)",
   "language": "python",
   "name": "python3"
  },
  "language_info": {
   "codemirror_mode": {
    "name": "ipython",
    "version": 3
   },
   "file_extension": ".py",
   "mimetype": "text/x-python",
   "name": "python",
   "nbconvert_exporter": "python",
   "pygments_lexer": "ipython3",
   "version": "3.9.12"
  }
 },
 "nbformat": 4,
 "nbformat_minor": 5
}
