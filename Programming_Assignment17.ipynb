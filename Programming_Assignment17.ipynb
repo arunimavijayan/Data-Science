{
 "cells": [
  {
   "cell_type": "markdown",
   "id": "dee7de6d",
   "metadata": {},
   "source": [
    "Question1. Create a function that takes three arguments a, b, c and returns the sum of the\n",
    "numbers that are evenly divided by c from the range a, b inclusive.\n",
    "Examples\n",
    "evenly_divisible(1, 10, 20) ➞ 0\n",
    "# No number between 1 and 10 can be evenly divided by 20.\n",
    "evenly_divisible(1, 10, 2) ➞ 30\n",
    "# 2 + 4 + 6 + 8 + 10 = 30\n",
    "evenly_divisible(1, 10, 3) ➞ 18\n",
    "# 3 + 6 + 9 = 18"
   ]
  },
  {
   "cell_type": "code",
   "execution_count": 4,
   "id": "62e2ae8a",
   "metadata": {},
   "outputs": [
    {
     "name": "stdout",
     "output_type": "stream",
     "text": [
      "1\n",
      "10\n",
      "3\n",
      "18\n"
     ]
    }
   ],
   "source": [
    "def func(a,b,c):\n",
    "    res=0\n",
    "    for i in range(a,b+1):\n",
    "        if(i%c==0):\n",
    "            res=res+i\n",
    "    return res\n",
    "\n",
    "a=int(input())\n",
    "b=int(input())\n",
    "c=int(input())\n",
    "print(func(a,b,c))"
   ]
  },
  {
   "cell_type": "markdown",
   "id": "5abfb84d",
   "metadata": {},
   "source": [
    "Question2. Create a function that returns True if a given inequality expression is correct and\n",
    "False otherwise.\n",
    "Examples\n",
    "correct_signs(\"3 < 7 <11\") ➞ True\n",
    "correct_signs(\"13> 44 > 33 >1\") ➞ False\n",
    "correct_signs(\"1 < 2 <6 < 9 > 3\") ➞ True"
   ]
  },
  {
   "cell_type": "code",
   "execution_count": 10,
   "id": "7f30e36b",
   "metadata": {},
   "outputs": [
    {
     "name": "stdout",
     "output_type": "stream",
     "text": [
      "1 < 2 <6 < 9 > 3\n",
      "True\n"
     ]
    }
   ],
   "source": [
    "def func(n):\n",
    "    res=eval(n)\n",
    "    if(res==True):\n",
    "        return True\n",
    "    else:\n",
    "        return False\n",
    "sent=input()\n",
    "print(func(sent))\n",
    "    "
   ]
  },
  {
   "cell_type": "markdown",
   "id": "d7a8567e",
   "metadata": {},
   "source": [
    "Question3. Create a function that replaces all the vowels in a string with a specified character.\n",
    "Examples\n",
    "replace_vowels(\"the aardvark\", \"#\") ➞ \"th# ##rdv#rk\"\n",
    "replace_vowels(\"minnie mouse\", \"?\") ➞ \"m?nn?? m??s?\"\n",
    "replace_vowels(\"shakespeare\", \"*\"\") ➞ \"sh*k*sp**r*\""
   ]
  },
  {
   "cell_type": "code",
   "execution_count": 17,
   "id": "1273020e",
   "metadata": {},
   "outputs": [
    {
     "name": "stdout",
     "output_type": "stream",
     "text": [
      "the aardvark\n",
      "#\n",
      "th# ##rdv#rk\n"
     ]
    }
   ],
   "source": [
    "def func(sent,ch):\n",
    "    reg=\"AEIOUaeiou\"\n",
    "    for i in reg:\n",
    "        sent=sent.replace(i,ch)\n",
    "    return sent\n",
    "sent=input()\n",
    "ch=input()\n",
    "print(func(sent,ch))       "
   ]
  },
  {
   "cell_type": "markdown",
   "id": "e3351d88",
   "metadata": {},
   "source": [
    "Question4. Write a function that calculates the factorial of a number recursively.\n",
    "Examples\n",
    "factorial(5) ➞ 120\n",
    "factorial(3) ➞ 6\n",
    "factorial(1) ➞ 1\n",
    "factorial(0) ➞ 1"
   ]
  },
  {
   "cell_type": "code",
   "execution_count": 21,
   "id": "347814c4",
   "metadata": {},
   "outputs": [
    {
     "name": "stdout",
     "output_type": "stream",
     "text": [
      "3\n",
      "6\n"
     ]
    }
   ],
   "source": [
    "def func(n):\n",
    "    if n==0 or n==1:\n",
    "        return 1\n",
    "    else:\n",
    "        return n*func(n-1)\n",
    "n=int(input())\n",
    "print(func(n))   "
   ]
  },
  {
   "cell_type": "markdown",
   "id": "a74fb081",
   "metadata": {},
   "source": [
    "Question 5\n",
    "Hamming distance is the number of characters that differ between two strings.\n",
    "To illustrate:\n",
    "String1: \"abcbba\"\n",
    "String2: \"abcbda\"\n",
    "Hamming Distance: 1 - \"b\" vs. \"d\" is the only difference.\n",
    "Create a function that computes the hamming distance between two strings.\n",
    "Examples\n",
    "hamming_distance(\"abcde\", \"bcdef\") ➞ 5\n",
    "hamming_distance(\"abcde\", \"abcde\") ➞ 0\n",
    "hamming_distance(\"strong\", \"strung\") ➞ 1"
   ]
  },
  {
   "cell_type": "code",
   "execution_count": 27,
   "id": "dc9db1c5",
   "metadata": {},
   "outputs": [
    {
     "name": "stdout",
     "output_type": "stream",
     "text": [
      "strong\n",
      "strung\n",
      "1\n"
     ]
    }
   ],
   "source": [
    "def func(sent,sent1):\n",
    "    count=0\n",
    "    i=0\n",
    "    while(i < len(sent)):\n",
    "        if(sent[i] != sent1[i]):\n",
    "            count += 1\n",
    "        i += 1\n",
    "    return count\n",
    "sent=input()\n",
    "sent1=input()\n",
    "print(func(sent,sent1))  "
   ]
  },
  {
   "cell_type": "code",
   "execution_count": null,
   "id": "899e0dd5",
   "metadata": {},
   "outputs": [],
   "source": []
  }
 ],
 "metadata": {
  "kernelspec": {
   "display_name": "Python 3 (ipykernel)",
   "language": "python",
   "name": "python3"
  },
  "language_info": {
   "codemirror_mode": {
    "name": "ipython",
    "version": 3
   },
   "file_extension": ".py",
   "mimetype": "text/x-python",
   "name": "python",
   "nbconvert_exporter": "python",
   "pygments_lexer": "ipython3",
   "version": "3.9.12"
  }
 },
 "nbformat": 4,
 "nbformat_minor": 5
}
