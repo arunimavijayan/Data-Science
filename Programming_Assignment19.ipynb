{
 "cells": [
  {
   "cell_type": "markdown",
   "id": "d09268f2",
   "metadata": {},
   "source": [
    "Question1\n",
    "Create a function that takes a string and returns a string in which each character is repeated\n",
    "once.\n",
    "Examples\n",
    "double_char(\"String\") ➞ \"SSttrriinngg\"\n",
    "double_char(\"Hello World!\") ➞ \"HHeelllloo WWoorrlldd!!\"\n",
    "double_char(\"1234!_ \") ➞ \"11223344!!__ \""
   ]
  },
  {
   "cell_type": "code",
   "execution_count": 3,
   "id": "c372a03d",
   "metadata": {},
   "outputs": [
    {
     "name": "stdout",
     "output_type": "stream",
     "text": [
      "Hello World!\n",
      "HHeelllloo  WWoorrlldd!!\n"
     ]
    }
   ],
   "source": [
    "def func(sent):\n",
    "    res=\"\"\n",
    "    for i in sent:\n",
    "        res=res+i*2\n",
    "    return res\n",
    "sent=input()\n",
    "print(func(sent))"
   ]
  },
  {
   "cell_type": "markdown",
   "id": "ceff270f",
   "metadata": {},
   "source": [
    "Question2\n",
    "Create a function that reverses a boolean value and returns the string \"boolean expected\"\n",
    "if another variable type is given.\n",
    "Examples\n",
    "reverse(True) ➞ False\n",
    "reverse(False) ➞ True\n",
    "reverse(0) ➞ \"boolean expected\"\n",
    "reverse(None) ➞ \"boolean expected\""
   ]
  },
  {
   "cell_type": "code",
   "execution_count": 6,
   "id": "30c07fc9",
   "metadata": {},
   "outputs": [
    {
     "name": "stdout",
     "output_type": "stream",
     "text": [
      "None\n",
      "boolean expected\n"
     ]
    }
   ],
   "source": [
    "def func(sent):\n",
    "   \n",
    "    if sent=='True':\n",
    "        return False\n",
    "    elif sent=='False':\n",
    "        return True\n",
    "    else:\n",
    "        return \"boolean expected\"\n",
    "    \n",
    "sent=input()\n",
    "print(func(sent))"
   ]
  },
  {
   "cell_type": "markdown",
   "id": "5ceae554",
   "metadata": {},
   "source": [
    "Question3\n",
    "Create a function that returns the thickness (in meters) of a piece of paper after folding it n\n",
    "number of times. The paper starts off with a thickness of 0.5mm.\n",
    "Examples\n",
    "num_layers(1) ➞\"0.001m\"\n",
    "# Paper folded once is 1mm (equal to 0.001m)\n",
    "num_layers(4) ➞ \"0.008m\"\n",
    "# Paper folded 4 times is 8mm (equal to 0.008m)\n",
    "num_layers(21) ➞ \"1048.576m\"\n",
    "# Paper folded 21 times is 1048576mm (equal to 1048.576m)"
   ]
  },
  {
   "cell_type": "code",
   "execution_count": 8,
   "id": "bbe5479e",
   "metadata": {},
   "outputs": [
    {
     "name": "stdout",
     "output_type": "stream",
     "text": [
      "21\n",
      "1048.576\n"
     ]
    }
   ],
   "source": [
    "def func(n):\n",
    "    res=0.5\n",
    "    for i in range(n):\n",
    "        res*=2\n",
    "    return res/1000\n",
    "    \n",
    "n=int(input())\n",
    "print(func(n))"
   ]
  },
  {
   "cell_type": "markdown",
   "id": "7a502417",
   "metadata": {},
   "source": [
    "Question4\n",
    "\n",
    "Create a function that takes a single string as argument and returns an ordered list containing\n",
    "the indices of all capital letters in the string.\n",
    "Examples\n",
    "index_of_caps(\"eDaBiT\") ➞ [1, 3, 5]\n",
    "index_of_caps(\"eQuINoX\") ➞ [1, 3, 4, 6]\n",
    "index_of_caps(\"determine\") ➞ []\n",
    "index_of_caps(\"STRIKE\") ➞ [0, 1, 2, 3, 4, 5]\n",
    "index_of_caps(\"sUn\") ➞ [1]"
   ]
  },
  {
   "cell_type": "code",
   "execution_count": 11,
   "id": "7a985394",
   "metadata": {},
   "outputs": [
    {
     "name": "stdout",
     "output_type": "stream",
     "text": [
      "sUn\n",
      "[1]\n"
     ]
    }
   ],
   "source": [
    "def func(sent):\n",
    "    li=[]\n",
    "    for i in range(len(sent)):\n",
    "        if sent[i].isupper():\n",
    "            li.append(i)\n",
    "    li.sort()\n",
    "    return li\n",
    "    \n",
    "sent=input()\n",
    "print(func(sent))"
   ]
  },
  {
   "cell_type": "markdown",
   "id": "32ce15e7",
   "metadata": {},
   "source": [
    "Question5\n",
    "Using list comprehensions, create a function that finds all even numbers from 1 to the given\n",
    "number.\n",
    "Examples\n",
    "find_even_nums(8) ➞ [2, 4, 6, 8]\n",
    "find_even_nums(4) ➞ [2, 4]\n",
    "find_even_nums(2) ➞ [2]\n"
   ]
  },
  {
   "cell_type": "code",
   "execution_count": 15,
   "id": "54b4aa1c",
   "metadata": {},
   "outputs": [
    {
     "name": "stdout",
     "output_type": "stream",
     "text": [
      "2\n",
      "[2]\n"
     ]
    }
   ],
   "source": [
    "def func(n):\n",
    "    li=[x for x in range(1,n+1) if x%2==0]\n",
    "    return li\n",
    "    \n",
    "n=int(input())\n",
    "print(func(n))"
   ]
  },
  {
   "cell_type": "code",
   "execution_count": null,
   "id": "db2bdaf5",
   "metadata": {},
   "outputs": [],
   "source": []
  }
 ],
 "metadata": {
  "kernelspec": {
   "display_name": "Python 3 (ipykernel)",
   "language": "python",
   "name": "python3"
  },
  "language_info": {
   "codemirror_mode": {
    "name": "ipython",
    "version": 3
   },
   "file_extension": ".py",
   "mimetype": "text/x-python",
   "name": "python",
   "nbconvert_exporter": "python",
   "pygments_lexer": "ipython3",
   "version": "3.9.12"
  }
 },
 "nbformat": 4,
 "nbformat_minor": 5
}
