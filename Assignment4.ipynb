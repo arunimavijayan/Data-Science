{
 "cells": [
  {
   "cell_type": "markdown",
   "id": "080b950f",
   "metadata": {},
   "source": [
    "1. What exactly is []?\n",
    "\n",
    "It is an empty list which contains no value.\n",
    "\n",
    "2. In a list of values stored in a variable called spam, how would you assign the value 'hello' as the\n",
    "third value? (Assume [2, 4, 6, 8, 10] are in spam.)\n",
    "\n",
    "spam[2]='hello'\n",
    "\n",
    "Let's pretend the spam includes the list ['a', 'b', 'c', 'd'] for the next three queries.\n",
    "3. What is the value of spam[int(int('3' * 2) / 11)]?\n",
    "\n",
    "'d'\n",
    "\n",
    "4. What is the value of spam[-1]?\n",
    "\n",
    "'d'\n",
    "\n",
    "5. What is the value of spam[:2]?\n",
    "\n",
    "['a','b']\n",
    "\n",
    "Let's pretend bacon has the list [3.14, 'cat' ,11, 'cat', True] for the next three questions.\n",
    "6. What is the value of bacon.index('cat')?\n",
    "\n",
    "The value is 1\n",
    "\n",
    "7. How does bacon.append(99) change the look of the list value in bacon?\n",
    "\n",
    "[3.14, 'cat' ,11, 'cat', True,99] added at the end\n",
    "\n",
    "8. How does bacon.remove('cat') change the look of the list in bacon?\n",
    "\n",
    "[3.14, 11, 'cat', True] first cat will be removed\n",
    "\n",
    "9. What are the list concatenation and list replication operators?\n",
    "\n",
    "list concatenation-> +\n",
    "list replication-> *\n",
    "\n",
    "10. What is difference between the list methods append() and insert()?\n",
    "\n",
    "append() will add values only to the end of a list while insert() can add them anywhere in the list\n",
    "\n",
    "11. What are the two methods for removing items from a list?\n",
    "\n",
    "remove(),pop()\n",
    "\n",
    "12. Describe how list values and string values are identical.\n",
    "\n",
    "Both are identical because both are sequences, both have positive and negative indexes and the elements can be accessed using index but string is immutable and list is mutable\n",
    "\n",
    "13. What's the difference between tuples and lists?\n",
    "\n",
    "Tuples are immutable and denoted by(). Lists are mutable and denoted using []\n",
    "\n",
    "14. How do you type a tuple value that only contains the integer 42?\n",
    "\n",
    "considering a as name of tuple ,a=(42,)\n",
    "\n",
    "15. How do you get a list value's tuple form? How do you get a tuple value's list form?\n",
    "\n",
    "To convert list into tuple use tuple() function and give required list inside the function brackets similarly to convert tuple to list use list() and give the required tuple inside it's function brackets.\n",
    "\n",
    "16. Variables that \"contain\" list values are not necessarily lists themselves. Instead, what do they contain?\n",
    "\n",
    "They contain reference to the list values instead of list values unlike string and integer which contains the value in those variables\n",
    "\n",
    "17. How do you distinguish between copy.copy() and copy.deepcopy()?\n",
    "\n",
    "copy() create reference to original object. If you change copied object then it will affect the original object whereas deepcopy() creates new object and copies original object to new one therefore changing new deepcopied object doesn't affect original object.\n"
   ]
  },
  {
   "cell_type": "code",
   "execution_count": 5,
   "id": "2f8cd3ac",
   "metadata": {},
   "outputs": [
    {
     "data": {
      "text/plain": [
       "tuple"
      ]
     },
     "execution_count": 5,
     "metadata": {},
     "output_type": "execute_result"
    }
   ],
   "source": [
    "a=(42,)\n",
    "type(a)"
   ]
  },
  {
   "cell_type": "code",
   "execution_count": null,
   "id": "92483dbc",
   "metadata": {},
   "outputs": [],
   "source": []
  }
 ],
 "metadata": {
  "kernelspec": {
   "display_name": "Python 3 (ipykernel)",
   "language": "python",
   "name": "python3"
  },
  "language_info": {
   "codemirror_mode": {
    "name": "ipython",
    "version": 3
   },
   "file_extension": ".py",
   "mimetype": "text/x-python",
   "name": "python",
   "nbconvert_exporter": "python",
   "pygments_lexer": "ipython3",
   "version": "3.9.12"
  }
 },
 "nbformat": 4,
 "nbformat_minor": 5
}
