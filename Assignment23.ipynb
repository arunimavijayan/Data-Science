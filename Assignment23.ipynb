{
 "cells": [
  {
   "cell_type": "markdown",
   "id": "06e6a5b9",
   "metadata": {},
   "source": [
    "1. What is the result of the code, and why?\n",
    ">>> def func(a, b=6, c=8):\n",
    "print(a, b, c)\n",
    ">>> func(1, 2)\n",
    "\n",
    "1 2 8. As we pass values of a,b it overrides the default values given in function\n",
    "\n",
    "2. What is the result of this code, and why?\n",
    ">>>def func(a, b, c=5):\n",
    "print(a, b, c)\n",
    ">>> func(1, c=3, b=2)\n",
    "\n",
    "1 2 3.As we pass values of  it overrides the default values given in function and positioning of arguments doesn't matter as long as the variable name is defined\n",
    "\n",
    "3. How about this code: what is its result, and why?\n",
    ">>> def func(a, *pargs):\n",
    "print(a, pargs)\n",
    ">>> func(1, 2, 3)\n",
    "\n",
    "1 (2, 3) . *pargs can accept n number of arguments and it store the values in a tuple form .\n",
    "\n",
    "4. What does this code print, and why?\n",
    ">>> def func(a, **kargs):\n",
    "print(a, kargs)\n",
    ">>> func(a=1, c=3, b=2)\n",
    "\n",
    "1 {'c': 3, 'b': 2}.**kargs accepts values and store it in dictionary format\n",
    "\n",
    "5. What gets printed by this, and explain?\n",
    ">>> def func(a, b, c=8, d=5): print(a, b, c, d)\n",
    ">>> func(1, *(5, 6))\n",
    "\n",
    "1 5 6 5. b and c's value get overridden by 5 and 6 while d retains default value.\n",
    "\n",
    "6. what is the result of this, and explain?\n",
    ">>>def func(a, b, c): a = 2; b[0] = 'x'; c['a'] = 'y';\n",
    ">>>l=1; m=[1]; n={'a':0}\n",
    ">>>func(l, m, n)\n",
    ">>>l, m, n\n",
    "\n",
    "\n",
    "(1, ['x'], {'a': 'y'}) the values l,m,n  passed override a's value and others get assigned as per definition given in function."
   ]
  },
  {
   "cell_type": "code",
   "execution_count": null,
   "id": "47dc4d8c",
   "metadata": {},
   "outputs": [],
   "source": []
  }
 ],
 "metadata": {
  "kernelspec": {
   "display_name": "Python 3 (ipykernel)",
   "language": "python",
   "name": "python3"
  },
  "language_info": {
   "codemirror_mode": {
    "name": "ipython",
    "version": 3
   },
   "file_extension": ".py",
   "mimetype": "text/x-python",
   "name": "python",
   "nbconvert_exporter": "python",
   "pygments_lexer": "ipython3",
   "version": "3.9.12"
  }
 },
 "nbformat": 4,
 "nbformat_minor": 5
}
