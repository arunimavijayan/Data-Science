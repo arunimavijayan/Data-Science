{
 "cells": [
  {
   "cell_type": "code",
   "execution_count": 11,
   "id": "87a34b5f",
   "metadata": {},
   "outputs": [
    {
     "name": "stdout",
     "output_type": "stream",
     "text": [
      "54\n",
      "24\n",
      "216\n"
     ]
    }
   ],
   "source": [
    "#1. Write a Python Program to Find LCM?\n",
    "n1=int(input())\n",
    "n2=int(input())\n",
    "greater=0\n",
    "def lcm_func(n1,n2):\n",
    "    if(n1>n2):\n",
    "        greater=n1\n",
    "    else:\n",
    "        greater=n2\n",
    "    while(True):\n",
    "        if(greater%n1==0 and greater%n2==0):\n",
    "            lcm=greater\n",
    "            break\n",
    "        greater+=1\n",
    "    return lcm\n",
    "\n",
    "print(lcm_func(n1,n2))\n",
    "\n",
    "\n"
   ]
  },
  {
   "cell_type": "code",
   "execution_count": 15,
   "id": "ff49cf66",
   "metadata": {},
   "outputs": [
    {
     "name": "stdout",
     "output_type": "stream",
     "text": [
      "54\n",
      "24\n",
      "6\n"
     ]
    }
   ],
   "source": [
    "#2. Write a Python Program to Find HCF?\n",
    "n1=int(input())\n",
    "n2=int(input())\n",
    "small=0\n",
    "def hcf_func(n1,n2):\n",
    "    if(n1<n2):\n",
    "        small=n1\n",
    "    else:\n",
    "        small=n2\n",
    "   \n",
    "    for i in range(1,small+1):\n",
    "        if(n1%i==0 and n2%i==0 ):\n",
    "            hcf=i   \n",
    "    return hcf\n",
    "\n",
    "print(hcf_func(n1,n2))"
   ]
  },
  {
   "cell_type": "code",
   "execution_count": 16,
   "id": "6f5968cf",
   "metadata": {},
   "outputs": [
    {
     "name": "stdout",
     "output_type": "stream",
     "text": [
      "enter decimal value: 344\n",
      "0b101011000  In Binary \n",
      "0o530  In Octal \n",
      "0x158  In Hexadecimal\n"
     ]
    }
   ],
   "source": [
    "#3. Write a Python Program to Convert Decimal to Binary, Octal and Hexadecimal?\n",
    "dec=int(input(\"enter decimal value: \"))\n",
    "print(bin(dec),\" In Binary \")\n",
    "print(oct(dec), \" In Octal \")\n",
    "print(hex(dec), \" In Hexadecimal\")"
   ]
  },
  {
   "cell_type": "code",
   "execution_count": 17,
   "id": "f6327ec3",
   "metadata": {},
   "outputs": [
    {
     "name": "stdout",
     "output_type": "stream",
     "text": [
      "p\n",
      "112\n"
     ]
    }
   ],
   "source": [
    "#4. Write a Python Program To Find ASCII value of a character?\n",
    "ch=input()\n",
    "print(ord(ch)) #chr(120) yield corresonding character"
   ]
  },
  {
   "cell_type": "code",
   "execution_count": 20,
   "id": "8b98d9b2",
   "metadata": {},
   "outputs": [
    {
     "name": "stdout",
     "output_type": "stream",
     "text": [
      "Select operation.\n",
      "1)Add\n",
      "2)Subtract\n",
      "3)Multiply\n",
      "4)Divide\n",
      "Enter choice(1/2/3/4): 3\n",
      "Enter first number: 15\n",
      "Enter second number: 14\n",
      "210.0\n",
      "want to continue? (y/n): n\n"
     ]
    }
   ],
   "source": [
    "#5. Write a Python Program to Make a Simple Calculator with 4 basic mathematical operations?\n",
    "def add(x, y):\n",
    "    return x + y\n",
    "def subtract(x, y):\n",
    "    return x - y\n",
    "def multiply(x, y):\n",
    "    return x * y\n",
    "def divide(x, y):\n",
    "    return x / y\n",
    "\n",
    "print(\"Select operation.\")\n",
    "print(\"1)Add\")\n",
    "print(\"2)Subtract\")\n",
    "print(\"3)Multiply\")\n",
    "print(\"4)Divide\")\n",
    "\n",
    "while True:\n",
    "    ch = input(\"Enter choice(1/2/3/4): \")\n",
    "    if ch in ('1', '2', '3', '4'):\n",
    "        num1 = float(input(\"Enter first number: \"))\n",
    "        num2 = float(input(\"Enter second number: \"))\n",
    "        if ch== '1':\n",
    "            print(add(num1, num2))\n",
    "        elif ch == '2':\n",
    "            print(subtract(num1, num2))\n",
    "        elif ch == '3':\n",
    "            print(multiply(num1, num2))\n",
    "        elif ch == '4':\n",
    "            print(divide(num1, num2))   \n",
    "        temp = input(\"want to continue? (y/n): \")\n",
    "        if temp== \"n\":\n",
    "            break\n",
    "    else:\n",
    "        print(\"Please enter valid input\")"
   ]
  },
  {
   "cell_type": "code",
   "execution_count": null,
   "id": "af28bd47",
   "metadata": {},
   "outputs": [],
   "source": []
  }
 ],
 "metadata": {
  "kernelspec": {
   "display_name": "Python 3 (ipykernel)",
   "language": "python",
   "name": "python3"
  },
  "language_info": {
   "codemirror_mode": {
    "name": "ipython",
    "version": 3
   },
   "file_extension": ".py",
   "mimetype": "text/x-python",
   "name": "python",
   "nbconvert_exporter": "python",
   "pygments_lexer": "ipython3",
   "version": "3.9.12"
  }
 },
 "nbformat": 4,
 "nbformat_minor": 5
}
