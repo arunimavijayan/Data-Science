{
 "cells": [
  {
   "cell_type": "code",
   "execution_count": 28,
   "id": "0264ead4",
   "metadata": {},
   "outputs": [
    {
     "name": "stdout",
     "output_type": "stream",
     "text": [
      "88\n",
      "not Disarium Number\n"
     ]
    }
   ],
   "source": [
    "#1. Write a Python program to check if the given number is a Disarium Number?\n",
    "\n",
    "num=int(input())\n",
    "temp=num\n",
    "sum1=0\n",
    "temp=str(temp)\n",
    "for i in range(len(temp)):\n",
    "    sum1+=(int(temp[i])**(i+1))\n",
    "\n",
    "if(sum1==num):\n",
    "    print(\"Disarium Number\")\n",
    "else:\n",
    "    print(\"not Disarium Number\")\n",
    "\n",
    "\n"
   ]
  },
  {
   "cell_type": "code",
   "execution_count": 37,
   "id": "4bcf086b",
   "metadata": {},
   "outputs": [
    {
     "name": "stdout",
     "output_type": "stream",
     "text": [
      "1\n",
      "2\n",
      "3\n",
      "4\n",
      "5\n",
      "6\n",
      "7\n",
      "8\n",
      "9\n",
      "89\n"
     ]
    }
   ],
   "source": [
    "#2. Write a Python program to print all disarium numbers between 1 to 100?\n",
    "sum1=0\n",
    "for i in range(1,100):\n",
    "    temp=str(i)\n",
    "    for i in range(len(temp)):\n",
    "        sum1+=(int(temp[i])**(i+1))\n",
    "    if(sum1==int(temp)):\n",
    "        print(temp)\n",
    "    sum1=0"
   ]
  },
  {
   "cell_type": "code",
   "execution_count": 75,
   "id": "deb7cb13",
   "metadata": {},
   "outputs": [
    {
     "name": "stdout",
     "output_type": "stream",
     "text": [
      "99\n",
      "Not Happy number\n"
     ]
    }
   ],
   "source": [
    "#3. Write a Python program to check if the given number is Happy Number?\n",
    "def happ_num(n):\n",
    "    sum1=r=0\n",
    "    while(n>0):\n",
    "        r=n%10\n",
    "        sum1+=r**2\n",
    "        n//=10            \n",
    "    return sum1\n",
    "\n",
    "num=int(input())\n",
    "b=num\n",
    "while(b!=1 and b!=4): \n",
    "    b=happ_num(b)\n",
    "    \n",
    "if b==1:\n",
    "    print(\"Happy number.\")\n",
    "elif(b==4):\n",
    "    print(\"Not Happy number\")\n",
    "\n",
    " "
   ]
  },
  {
   "cell_type": "code",
   "execution_count": 77,
   "id": "f813c362",
   "metadata": {},
   "outputs": [
    {
     "name": "stdout",
     "output_type": "stream",
     "text": [
      "[1, 7, 10, 13, 19, 23, 28, 31, 32, 44, 49, 68, 70, 79, 82, 86, 91, 94, 97, 100]\n"
     ]
    }
   ],
   "source": [
    "#4. Write a Python program to print all happy numbers between 1 and 100?\n",
    "def happ_num(n):\n",
    "    sum1=r=0\n",
    "    while(n>0):\n",
    "        r=n%10\n",
    "        sum1+=r**2\n",
    "        n//=10            \n",
    "    return sum1\n",
    "\n",
    "li=[]\n",
    "for i in range(1,101):\n",
    "    b=i\n",
    "    while(b!=1 and b!=4): \n",
    "        b=happ_num(b)\n",
    "\n",
    "    if b==1:\n",
    "        li.append(i)\n",
    "print(li)"
   ]
  },
  {
   "cell_type": "code",
   "execution_count": 83,
   "id": "17085431",
   "metadata": {},
   "outputs": [
    {
     "name": "stdout",
     "output_type": "stream",
     "text": [
      "67\n",
      "not a harshad number\n"
     ]
    }
   ],
   "source": [
    "#5. Write a Python program to determine whether the given number is a Harshad Number?\n",
    "num=int(input())\n",
    "n=num\n",
    "sum1=r=0\n",
    "while(n>0):\n",
    "        r=n%10\n",
    "        sum1+=r\n",
    "        n//=10  \n",
    "if(num%sum1==0):\n",
    "    print(\"Harshad Number\")\n",
    "else:\n",
    "    print(\"not a harshad number\")"
   ]
  },
  {
   "cell_type": "code",
   "execution_count": 90,
   "id": "6d816cac",
   "metadata": {},
   "outputs": [
    {
     "name": "stdout",
     "output_type": "stream",
     "text": [
      "[2, 6, 12, 20, 30, 42, 56, 72, 90]\n"
     ]
    }
   ],
   "source": [
    "#6. Write a Python program to print all pronic numbers between 1 and 100?\n",
    "def pro_func(n):\n",
    "    for j in range(1,n+1):\n",
    "        if(n==j*(j+1)):\n",
    "            return True\n",
    "           \n",
    "li=[]\n",
    "for i in range(1,101):\n",
    "    n=pro_func(i)\n",
    "    if(n==True):\n",
    "        li.append(i)\n",
    "print(li)    "
   ]
  },
  {
   "cell_type": "code",
   "execution_count": null,
   "id": "578797cd",
   "metadata": {},
   "outputs": [],
   "source": []
  }
 ],
 "metadata": {
  "kernelspec": {
   "display_name": "Python 3 (ipykernel)",
   "language": "python",
   "name": "python3"
  },
  "language_info": {
   "codemirror_mode": {
    "name": "ipython",
    "version": 3
   },
   "file_extension": ".py",
   "mimetype": "text/x-python",
   "name": "python",
   "nbconvert_exporter": "python",
   "pygments_lexer": "ipython3",
   "version": "3.9.12"
  }
 },
 "nbformat": 4,
 "nbformat_minor": 5
}
