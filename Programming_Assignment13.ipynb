{
 "cells": [
  {
   "cell_type": "markdown",
   "id": "80bea1fa",
   "metadata": {},
   "source": [
    "Question 1:\n",
    "Write a program that calculates and prints the value according to the given formula:\n",
    "Q = Square root of [(2 * C * D)/H]\n",
    "Following are the fixed values of C and H:\n",
    "C is 50. H is 30.\n",
    "D is the variable whose values should be input to your program in a comma-separated\n",
    "sequence.\n",
    "Example\n",
    "Let us assume the following comma separated input sequence is given to the program:\n",
    "100,150,180\n",
    "The output of the program should be:\n",
    "18,22,24"
   ]
  },
  {
   "cell_type": "code",
   "execution_count": 13,
   "id": "a31a574a",
   "metadata": {},
   "outputs": [
    {
     "name": "stdout",
     "output_type": "stream",
     "text": [
      "100,150,180\n",
      "18,22,24\n"
     ]
    }
   ],
   "source": [
    "from math import *\n",
    "C=50\n",
    "H=30\n",
    "D=input().split(\",\")\n",
    "def func1(C,H,D):\n",
    "    Q=[]\n",
    "    for i in D:\n",
    "        Q.append(round(sqrt((2*C*int(i)/H))))\n",
    "    return Q\n",
    "\n",
    "print(*func1(C,H,D),sep = ',')\n",
    "    "
   ]
  },
  {
   "cell_type": "markdown",
   "id": "988c7bfb",
   "metadata": {},
   "source": [
    "Question 2:\n",
    "Write a program which takes 2 digits, X,Y as input and generates a 2-dimensional array. The\n",
    "element value in the i-th row and j-th column of the array should be i*j.\n",
    "Note: i=0,1.., X-1; j=0,1,¡Y-1.\n",
    "Example\n",
    "Suppose the following inputs are given to the program:\n",
    "3,5\n",
    "Then, the output of the program should be:\n",
    "[[0, 0, 0, 0, 0], [0, 1, 2, 3, 4], [0, 2, 4, 6, 8]]"
   ]
  },
  {
   "cell_type": "code",
   "execution_count": 14,
   "id": "a1dbc0bc",
   "metadata": {},
   "outputs": [
    {
     "name": "stdout",
     "output_type": "stream",
     "text": [
      "3\n",
      "5\n",
      "[[0, 0, 0, 0, 0], [0, 1, 2, 3, 4], [0, 2, 4, 6, 8]]\n"
     ]
    }
   ],
   "source": [
    "X=int(input())\n",
    "Y=int(input())\n",
    "li=[]\n",
    "for i in range(X):\n",
    "    row=[]\n",
    "    for j in range(Y):\n",
    "        row.append(i*j)\n",
    "    li.append(row)\n",
    "print(li)"
   ]
  },
  {
   "cell_type": "markdown",
   "id": "447a2b1b",
   "metadata": {},
   "source": [
    "Question 3:\n",
    "Write a program that accepts a comma separated sequence of words as input and prints the\n",
    "words in a comma-separated sequence after sorting them alphabetically.\n",
    "Suppose the following input is supplied to the program:\n",
    "without,hello,bag,world\n",
    "Then, the output should be:\n",
    "bag,hello,without,world"
   ]
  },
  {
   "cell_type": "code",
   "execution_count": 16,
   "id": "a8fa6425",
   "metadata": {},
   "outputs": [
    {
     "name": "stdout",
     "output_type": "stream",
     "text": [
      "without,hello,bag,world\n",
      "bag,hello,without,world\n"
     ]
    }
   ],
   "source": [
    "sent=input().split(\",\")\n",
    "sent.sort()\n",
    "print(','.join(sent))"
   ]
  },
  {
   "cell_type": "markdown",
   "id": "0eb06745",
   "metadata": {},
   "source": [
    "Question 4:\n",
    "Write a program that accepts a sequence of whitespace separated words as input and prints\n",
    "the words after removing all duplicate words and sorting them alphanumerically.\n",
    "Suppose the following input is supplied to the program:\n",
    "hello world and practice makes perfect and hello world again\n",
    "Then, the output should be:\n",
    "again and hello makes perfect practice world"
   ]
  },
  {
   "cell_type": "code",
   "execution_count": 21,
   "id": "a1b73800",
   "metadata": {},
   "outputs": [
    {
     "name": "stdout",
     "output_type": "stream",
     "text": [
      "hello world and practice makes perfect and hello world again\n",
      "again and hello makes perfect practice world\n"
     ]
    }
   ],
   "source": [
    "sent=input().split(\" \")\n",
    "res=[]\n",
    "for i in set(sent):\n",
    "    res.append(i)\n",
    "res.sort()\n",
    "print(' '.join(res))"
   ]
  },
  {
   "cell_type": "markdown",
   "id": "e97b9bfe",
   "metadata": {},
   "source": [
    "Question 5:\n",
    "Write a program that accepts a sentence and calculate the number of letters and digits.\n",
    "Suppose the following input is supplied to the program:\n",
    "hello world! 123\n",
    "Then, the output should be:\n",
    "LETTERS 10\n",
    "\n",
    "DIGITS 3"
   ]
  },
  {
   "cell_type": "code",
   "execution_count": 29,
   "id": "e4626b90",
   "metadata": {},
   "outputs": [
    {
     "name": "stdout",
     "output_type": "stream",
     "text": [
      "hello world! 123\n",
      "LETTERS   10\n",
      "DIGITS   3\n"
     ]
    }
   ],
   "source": [
    "import re\n",
    "sent=input()\n",
    "clett=0\n",
    "cdig=0\n",
    "for i in sent:\n",
    "    if i.isalpha():\n",
    "        clett+=1\n",
    "    elif i.isdigit():\n",
    "        cdig+=1\n",
    "    else:\n",
    "        pass\n",
    "\n",
    "print(\"LETTERS  \",clett)\n",
    "print(\"DIGITS  \",cdig)"
   ]
  },
  {
   "cell_type": "markdown",
   "id": "d0f010c1",
   "metadata": {},
   "source": [
    "Question 6:\n",
    "A website requires the users to input username and password to register. Write a program to\n",
    "check the validity of password input by users.\n",
    "Following are the criteria for checking the password:\n",
    "1. At least 1 letter between [a-z]\n",
    "2. At least 1 number between [0-9]\n",
    "1. At least 1 letter between [A-Z]\n",
    "3. At least 1 character from [$#@]\n",
    "4. Minimum length of transaction password: 6\n",
    "5. Maximum length of transaction password: 12\n",
    "Your program should accept a sequence of comma separated passwords and will check them\n",
    "according to the above criteria. Passwords that match the criteria are to be printed, each\n",
    "separated by a comma.\n",
    "Example\n",
    "If the following passwords are given as input to the program:\n",
    "ABd1234@1,a F1#,2w3E*,2We3345\n",
    "Then, the output of the program should be:\n",
    "ABd1234@1"
   ]
  },
  {
   "cell_type": "code",
   "execution_count": 34,
   "id": "a2f7a284",
   "metadata": {},
   "outputs": [
    {
     "name": "stdout",
     "output_type": "stream",
     "text": [
      "ABd1234@1,a F1#,2w3E*,2We3345,Abd12#2\n",
      "ABd1234@1,Abd12#2\n"
     ]
    }
   ],
   "source": [
    "sent=input().split(\",\")\n",
    "li=[]\n",
    "for i in sent:\n",
    "    l=0\n",
    "    u=0\n",
    "    d=0\n",
    "    s=0\n",
    "    for j in i:\n",
    "        if(j.islower()):\n",
    "            l+=1\n",
    "        elif(j.isupper()):\n",
    "            u+=1\n",
    "        elif(j.isdigit()):\n",
    "            d+=1\n",
    "        elif(j=='$' or j=='#' or j=='@'):\n",
    "            s+=1\n",
    "    if(l>=1 and u>=1 and d>=1 and s>=1 and len(i)>=6 and len(i)<12):\n",
    "        li.append(i)\n",
    "print(','.join(li))"
   ]
  }
 ],
 "metadata": {
  "kernelspec": {
   "display_name": "Python 3 (ipykernel)",
   "language": "python",
   "name": "python3"
  },
  "language_info": {
   "codemirror_mode": {
    "name": "ipython",
    "version": 3
   },
   "file_extension": ".py",
   "mimetype": "text/x-python",
   "name": "python",
   "nbconvert_exporter": "python",
   "pygments_lexer": "ipython3",
   "version": "3.9.12"
  }
 },
 "nbformat": 4,
 "nbformat_minor": 5
}
