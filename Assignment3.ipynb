{
 "cells": [
  {
   "cell_type": "markdown",
   "id": "9626e8d2",
   "metadata": {},
   "source": [
    "1. Why are functions advantageous to have in your programs?\n",
    "\n",
    "Functions reduce redundancy of code, which makes it easier to read,update and make it shorter.\n",
    "\n",
    "\n",
    "2. When does the code in a function run: when it's specified or when it's called?\n",
    "\n",
    "when it is called the function runs.\n",
    "\n",
    "3. What statement creates a function?\n",
    "\n",
    "def statement creates a function e.g: def fun():pass\n",
    "\n",
    "4. What is the difference between a function and a function call?\n",
    "\n",
    "function is something that is declared using def keyword and code written inside that def block.It reduce redundancy of code, which makes it easier to read,update and make it shorter whereas function call is something that moves the program execution into the function and it evaluates to function's return value.\n",
    "\n",
    "5. How many global scopes are there in a Python program? How many local scopes?\n",
    "\n",
    "There is one global scope.A local scope is created whenever a function is called .\n",
    "\n",
    "6. What happens to variables in a local scope when the function call returns?\n",
    "\n",
    "local scope gets destroyed and variable are forgotten.\n",
    "\n",
    "7. What is the concept of a return value? Is it possible to have a return value in an expression?\n",
    "\n",
    "A return value is the value that a function call results in.Yes, return value can be used as part of an expression.\n",
    "\n",
    "8. If a function does not have a return statement, what is the return value of a call to that function?\n",
    "\n",
    "None(NoneType)\n",
    "\n",
    "9. How do you make a function variable refer to the global variable?\n",
    "\n",
    "By using global statement\n",
    "\n",
    "10. What is the data type of None?\n",
    "\n",
    "NoneType\n",
    "\n",
    "11. What does the sentence import areallyourpetsnamederic do?\n",
    "\n",
    "imports a module named areallyourpetsnamederic.\n",
    "\n",
    "12. If you had a bacon() feature in a spam module, what would you call it after importing spam?\n",
    "\n",
    "spam.bacon()\n",
    "\n",
    "13. What can you do to save a programme from crashing if it encounters an error?\n",
    "\n",
    "use Error handling techniques like Try,except or Try,except,Finally or logging the error to solve the issue causing that error.\n",
    "\n",
    "14. What is the purpose of the try clause? What is the purpose of the except clause?\n",
    "\n",
    "Try blocks lets you check the block written inside it for errors and except clause allows you to handle the error caught by try block."
   ]
  },
  {
   "cell_type": "code",
   "execution_count": null,
   "id": "9051d038",
   "metadata": {},
   "outputs": [],
   "source": []
  }
 ],
 "metadata": {
  "kernelspec": {
   "display_name": "Python 3 (ipykernel)",
   "language": "python",
   "name": "python3"
  },
  "language_info": {
   "codemirror_mode": {
    "name": "ipython",
    "version": 3
   },
   "file_extension": ".py",
   "mimetype": "text/x-python",
   "name": "python",
   "nbconvert_exporter": "python",
   "pygments_lexer": "ipython3",
   "version": "3.9.12"
  }
 },
 "nbformat": 4,
 "nbformat_minor": 5
}
