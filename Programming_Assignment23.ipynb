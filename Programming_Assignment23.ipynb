{
 "cells": [
  {
   "cell_type": "markdown",
   "id": "3e6c4cc2",
   "metadata": {},
   "source": [
    "Question 1\n",
    "Create a function that takes a number as an argument and returns True or False depending\n",
    "on whether the number is symmetrical or not. A number is symmetrical when it is the same as\n",
    "its reverse.\n",
    "Examples\n",
    "is_symmetrical(7227) ➞ True\n",
    "is_symmetrical(12567) ➞ False\n",
    "is_symmetrical(44444444) ➞ True\n",
    "is_symmetrical(9939) ➞ False\n",
    "is_symmetrical(1112111) ➞ True"
   ]
  },
  {
   "cell_type": "code",
   "execution_count": 4,
   "id": "0e21bdfd",
   "metadata": {},
   "outputs": [
    {
     "name": "stdout",
     "output_type": "stream",
     "text": [
      "False\n"
     ]
    }
   ],
   "source": [
    "def func(num):\n",
    "    res=str(num)\n",
    "    res=res[::-1]\n",
    "    if(str(num)==res):\n",
    "        return True\n",
    "    else:\n",
    "        return False\n",
    "num=9939\n",
    "print(func(num))"
   ]
  },
  {
   "cell_type": "markdown",
   "id": "a734c8d9",
   "metadata": {},
   "source": [
    "Question 2\n",
    "Given a string of numbers separated by a comma and space, return the product of the\n",
    "numbers.\n",
    "Examples\n",
    "multiply_nums(\"2, 3\") ➞ 6\n",
    "multiply_nums(\"1, 2, 3, 4\") ➞ 24\n",
    "multiply_nums(\"54, 75, 453, 0\") ➞ 0\n",
    "multiply_nums(\"10, -2\") ➞ -20"
   ]
  },
  {
   "cell_type": "code",
   "execution_count": 30,
   "id": "08c84751",
   "metadata": {},
   "outputs": [
    {
     "name": "stdout",
     "output_type": "stream",
     "text": [
      "[10, -2]\n",
      "-20\n"
     ]
    }
   ],
   "source": [
    "import math\n",
    "def func(sent):\n",
    "    li=[]\n",
    "    li1=[]\n",
    "    res=1\n",
    "    li1=sent.split(\", \")\n",
    "    for i in li1:\n",
    "        el=int(i)\n",
    "        li.append(el)\n",
    "    print(li)\n",
    "    return math.prod(li)\n",
    "sent=\"10, -2\"\n",
    "print(func(sent))"
   ]
  },
  {
   "cell_type": "markdown",
   "id": "5f822617",
   "metadata": {},
   "source": [
    "Question 3\n",
    "Create a function that squares every digit of a number.\n",
    "Examples\n",
    "square_digits(9119) ➞ 811181\n",
    "square_digits(2483) ➞ 416649\n",
    "square_digits(3212) ➞ 9414\n",
    "Notes\n",
    "The function receives an integer and must return an integer.\n"
   ]
  },
  {
   "cell_type": "code",
   "execution_count": 39,
   "id": "b27b4caa",
   "metadata": {},
   "outputs": [
    {
     "name": "stdout",
     "output_type": "stream",
     "text": [
      "9414\n"
     ]
    }
   ],
   "source": [
    "import math\n",
    "def func(num):\n",
    "    num=str(num)\n",
    "    res=\"\"\n",
    "    num=num[0::1]\n",
    "    for i in num:\n",
    "        el=int(i)\n",
    "        \n",
    "        res=res+(str(el*el))\n",
    "    return res\n",
    "    \n",
    "num=3212\n",
    "print(func(num))"
   ]
  },
  {
   "cell_type": "markdown",
   "id": "2f0a056e",
   "metadata": {},
   "source": [
    "Question 4\n",
    "Create a function that sorts a list and removes all duplicate items from it.\n",
    "Examples\n",
    "setify([1, 3, 3, 5, 5]) ➞ [1, 3, 5]\n",
    "setify([4, 4, 4, 4]) ➞ [4]\n",
    "setify([5, 7, 8, 9, 10, 15]) ➞ [5, 7, 8, 9, 10, 15]\n",
    "setify([3, 3, 3, 2, 1]) ➞ [1, 2, 3]"
   ]
  },
  {
   "cell_type": "code",
   "execution_count": 45,
   "id": "ca9af36d",
   "metadata": {},
   "outputs": [
    {
     "name": "stdout",
     "output_type": "stream",
     "text": [
      "[1, 2, 3]\n"
     ]
    }
   ],
   "source": [
    "def func(li):\n",
    "    res=[]\n",
    "    for i in set(li):\n",
    "        res.append(i)\n",
    "    res.sort()\n",
    "    return res\n",
    "li=[3, 3, 3, 2, 1]\n",
    "print(func(li))"
   ]
  },
  {
   "cell_type": "markdown",
   "id": "f7a0ec77",
   "metadata": {},
   "source": [
    "Question 5\n",
    "Create a function that returns the mean of all digits.\n",
    "Examples\n",
    "mean(42) ➞ 3\n",
    "mean(12345) ➞ 3\n",
    "mean(666) ➞ 6\n",
    "Notes\n",
    " The mean of all digits is the sum of digits / how many digits there are (e.g. mean of digits in\n",
    "512 is (5+1+2)/3(number of digits) = 8/3=2).\n",
    " The mean will always be an integer."
   ]
  },
  {
   "cell_type": "code",
   "execution_count": 49,
   "id": "18224b26",
   "metadata": {},
   "outputs": [
    {
     "name": "stdout",
     "output_type": "stream",
     "text": [
      "6\n"
     ]
    }
   ],
   "source": [
    "def func(num):\n",
    "    num=str(num)\n",
    "    res=0\n",
    "    c=0\n",
    "    for i in num:\n",
    "        res+=int(i)\n",
    "        c=c+1\n",
    "    mean=res/c\n",
    "    return int(mean)\n",
    "num=666\n",
    "print(func(num))"
   ]
  },
  {
   "cell_type": "code",
   "execution_count": null,
   "id": "7ff85919",
   "metadata": {},
   "outputs": [],
   "source": []
  }
 ],
 "metadata": {
  "kernelspec": {
   "display_name": "Python 3 (ipykernel)",
   "language": "python",
   "name": "python3"
  },
  "language_info": {
   "codemirror_mode": {
    "name": "ipython",
    "version": 3
   },
   "file_extension": ".py",
   "mimetype": "text/x-python",
   "name": "python",
   "nbconvert_exporter": "python",
   "pygments_lexer": "ipython3",
   "version": "3.9.12"
  }
 },
 "nbformat": 4,
 "nbformat_minor": 5
}
