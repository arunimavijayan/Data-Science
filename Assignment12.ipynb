{
 "cells": [
  {
   "cell_type": "markdown",
   "id": "b999c514",
   "metadata": {},
   "source": [
    "1. In what modes should the PdfFileReader() and PdfFileWriter() File objects will be opened?\n",
    "\n",
    "Read-binary ('rb') for PdfFileReader() and write-binary ('wb') for PdfFileWriter()\n",
    "\n",
    "2. From a PdfFileReader object, how do you get a Page object for page 5?\n",
    "\n",
    "getPage(4), since first page is at 0.\n",
    "\n",
    "3. What PdfFileReader variable stores the number of pages in the PDF document?\n",
    "\n",
    "numPages variable\n",
    "\n",
    "4. If a PdfFileReader object’s PDF is encrypted with the password swordfish, what must you do before you can obtain Page objects from it?\n",
    "\n",
    "Call decrypt('swordfish')\n",
    "\n",
    "5. What methods do you use to rotate a page?\n",
    "\n",
    "rotateCounterClockwise(),rotateClockwise()\n",
    "\n",
    "6. What is the difference between a Run object and a Paragraph object?\n",
    "\n",
    "A paragraph begins on a new line and contains multiple runs while Runs are contiguous groups of characters within the a paragraph.\n",
    "\n",
    "7. How do you obtain a list of Paragraph objects for a Document object that’s stored in a variable named doc?\n",
    "\n",
    "use doc.paragraphs\n",
    "\n",
    "8. What type of object has bold, underline, italic, strike, and outline variables?\n",
    "\n",
    "Run object\n",
    "\n",
    "9. What is the difference between False, True, and None for the bold variable?\n",
    "\n",
    "True->the attribute is always enabled, no matter what other styles are applied to the run, makes the Run object bolded\n",
    "False->the attribute is always disabled,not bolded\n",
    "None->defaults to whatever the run’s style is set to,make it  use the style’s bold setting\n",
    "\n",
    "10. How do you create a Document object for a new Word document?\n",
    "\n",
    "docx.Document()\n",
    "\n",
    "11. How do you add a paragraph with the text 'Hello, there!' to a Document object stored in a variable named doc?\n",
    "\n",
    "import docx\n",
    "doc = docx.Document()\n",
    "doc.add_paragraph('Hello there!')\n",
    "doc.save('hellothere.docx')\n",
    "\n",
    "12. What integers represent the levels of headings available in Word documents?\n",
    "\n",
    "integer from 0 to 4.The integer 0 makes the heading the Title style, Integers 1 to 4 are for various heading levels, with 1 being the main heading and 4 the lowest subheading\n"
   ]
  }
 ],
 "metadata": {
  "kernelspec": {
   "display_name": "Python 3 (ipykernel)",
   "language": "python",
   "name": "python3"
  },
  "language_info": {
   "codemirror_mode": {
    "name": "ipython",
    "version": 3
   },
   "file_extension": ".py",
   "mimetype": "text/x-python",
   "name": "python",
   "nbconvert_exporter": "python",
   "pygments_lexer": "ipython3",
   "version": "3.9.12"
  }
 },
 "nbformat": 4,
 "nbformat_minor": 5
}
