{
 "cells": [
  {
   "cell_type": "code",
   "execution_count": 17,
   "id": "ed5f6c01",
   "metadata": {},
   "outputs": [
    {
     "name": "stdout",
     "output_type": "stream",
     "text": [
      "Enter number of elements in array: 4\n",
      "12\n",
      "3\n",
      "4\n",
      "15\n",
      "sum of array is:  34\n"
     ]
    }
   ],
   "source": [
    "#1. Write a Python Program to find sum of array?\n",
    "my_list=[]\n",
    "def sum_array(num):\n",
    "    for i in range(num):\n",
    "        el=int(input())\n",
    "        my_list.append(el)\n",
    "    return sum(my_list)\n",
    "\n",
    "n=int(input(\"Enter number of elements in array: \"))\n",
    "sum1=sum_array(n)\n",
    "print(\"sum of array is: \",sum1 )\n",
    "\n",
    "\n"
   ]
  },
  {
   "cell_type": "code",
   "execution_count": 18,
   "id": "83be281c",
   "metadata": {},
   "outputs": [
    {
     "name": "stdout",
     "output_type": "stream",
     "text": [
      "Enter number of elements in array: 4\n",
      "12\n",
      "3\n",
      "4\n",
      "15\n",
      "max num of array is:  15\n"
     ]
    }
   ],
   "source": [
    "#2. Write a Python Program to find largest element in an array?\n",
    "my_list=[]\n",
    "def max_array(num):\n",
    "    for i in range(num):\n",
    "        el=int(input())\n",
    "        my_list.append(el)\n",
    "    return max(my_list)\n",
    "\n",
    "n=int(input(\"Enter number of elements in array: \"))\n",
    "max_num=max_array(n)\n",
    "print(\"max num of array is: \",max_num )"
   ]
  },
  {
   "cell_type": "code",
   "execution_count": 23,
   "id": "85773e15",
   "metadata": {},
   "outputs": [
    {
     "name": "stdout",
     "output_type": "stream",
     "text": [
      "Enter number of elements in array: 6\n",
      "1\n",
      "2\n",
      "3\n",
      "4\n",
      "5\n",
      "6\n",
      "Enter rotation number: 2\n",
      "[3, 4, 5, 6, 1, 2]\n"
     ]
    }
   ],
   "source": [
    "#3. Write a Python Program for array rotation?\n",
    "my_arr=[]\n",
    "n=int(input(\"Enter number of elements in array: \"))\n",
    "for i in range(n):\n",
    "    el=int(input())\n",
    "    my_arr.append(el)\n",
    "    \n",
    "def arr_rot(my_arr,d):\n",
    "    my_arr[:]=my_arr[d:n]+my_arr[0:d]\n",
    "    return my_arr\n",
    "\n",
    "d=int(input(\"Enter rotation number: \"))\n",
    "my_arr=arr_rot(my_arr,d)\n",
    "print(my_arr)\n",
    "    "
   ]
  },
  {
   "cell_type": "code",
   "execution_count": null,
   "id": "12db2340",
   "metadata": {},
   "outputs": [],
   "source": [
    "#4. Write a Python Program to Split the array and add the first part to the end?\n",
    "\n",
    "#The above program performs the same task given a particular point at which array has to be sliced\n",
    "my_arr=[]\n",
    "n=int(input(\"Enter number of elements in array: \"))\n",
    "for i in range(n):\n",
    "    el=int(input())\n",
    "    my_arr.append(el)\n",
    "    \n",
    "def arr_rot(my_arr,d):\n",
    "    my_arr[:]=my_arr[d:n]+my_arr[0:d]\n",
    "    return my_arr\n",
    "\n",
    "d=int(input(\"Enter rotation number: \"))\n",
    "my_arr=arr_rot(my_arr,d)\n",
    "print(my_arr)"
   ]
  },
  {
   "cell_type": "code",
   "execution_count": 30,
   "id": "8c038ee3",
   "metadata": {},
   "outputs": [
    {
     "name": "stdout",
     "output_type": "stream",
     "text": [
      "Enter number of elements in array: 5\n",
      "1\n",
      "4\n",
      "2\n",
      "7\n",
      "3\n",
      "not monotonic\n"
     ]
    }
   ],
   "source": [
    "#5. Write a Python Program to check if given array is Monotonic?\n",
    "arr=[]\n",
    "\n",
    "n=int(input(\"Enter number of elements in array: \"))\n",
    "for i in range(n):\n",
    "    el=int(input())\n",
    "    arr.append(el)\n",
    "    \n",
    "def is_Monotonic(arr):\n",
    "        c=0\n",
    "        d=0\n",
    "        for i in range(len(arr)-1):\n",
    "            if(arr[i]<=arr[i+1]):\n",
    "                c+=1\n",
    "            elif(arr[i]>=arr[i+1]):\n",
    "                d+=1\n",
    "            else:\n",
    "                break\n",
    "        if(c==len(arr)-1 or d==len(arr)-1):\n",
    "            return True\n",
    "        else:\n",
    "            return False\n",
    "        \n",
    "b=is_Monotonic(arr)\n",
    "if(b==True):\n",
    "    print(\"Monotonic\")\n",
    "else:\n",
    "    print(\"not monotonic\")\n"
   ]
  },
  {
   "cell_type": "code",
   "execution_count": null,
   "id": "32d8e83f",
   "metadata": {},
   "outputs": [],
   "source": []
  },
  {
   "cell_type": "code",
   "execution_count": null,
   "id": "0dc17ec9",
   "metadata": {},
   "outputs": [],
   "source": []
  }
 ],
 "metadata": {
  "kernelspec": {
   "display_name": "Python 3 (ipykernel)",
   "language": "python",
   "name": "python3"
  },
  "language_info": {
   "codemirror_mode": {
    "name": "ipython",
    "version": 3
   },
   "file_extension": ".py",
   "mimetype": "text/x-python",
   "name": "python",
   "nbconvert_exporter": "python",
   "pygments_lexer": "ipython3",
   "version": "3.9.12"
  }
 },
 "nbformat": 4,
 "nbformat_minor": 5
}
