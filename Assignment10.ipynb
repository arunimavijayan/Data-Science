{
 "cells": [
  {
   "cell_type": "markdown",
   "id": "d427053e",
   "metadata": {},
   "source": [
    "1. How do you distinguish between shutil.copy() and shutil.copytree()?\n",
    "\n",
    "shutil.copy() will copy a single file, while shutil.copytree() will copy an entire folder, along with all its contents.\n",
    "\n",
    "2. What function is used to rename files??\n",
    "\n",
    "shutil.move() moves and renames files.\n",
    "\n",
    "3. What is the difference between the delete functions in the send2trash and shutil modules?\n",
    "\n",
    "send2trash move a file or folder to the recycle bin, while shutil  permanently delete files and folders.\n",
    "\n",
    "4.ZipFile objects have a close() method just like File objects’ close() method. What ZipFile method is\n",
    "equivalent to File objects’ open() method?\n",
    "\n",
    "zipfile.ZipFile(filename,mode)\n",
    "\n",
    "5. Create a programme that searches a folder tree for files with a certain file extension (such as .pdf\n",
    "or .jpg). Copy these files from whatever location they are in to a new folder.\n",
    "\n",
    "import os, shutil\n",
    "\n",
    "def moveFileType(folder): \n",
    "  for root, dirs, files in os.walk(folder): \n",
    "               for file in files: \n",
    "                   if file.endswith('.jpg'):\n",
    "                    image_path=os.path.join(root,file)  # get the path location of each jpeg image.\n",
    "                    print 'location: ',image_path \n",
    "                    shutil.copy(image_path, <destination>)\n",
    "\n",
    "\n",
    "moveFileType(<source>)\n"
   ]
  }
 ],
 "metadata": {
  "kernelspec": {
   "display_name": "Python 3 (ipykernel)",
   "language": "python",
   "name": "python3"
  },
  "language_info": {
   "codemirror_mode": {
    "name": "ipython",
    "version": 3
   },
   "file_extension": ".py",
   "mimetype": "text/x-python",
   "name": "python",
   "nbconvert_exporter": "python",
   "pygments_lexer": "ipython3",
   "version": "3.9.12"
  }
 },
 "nbformat": 4,
 "nbformat_minor": 5
}
