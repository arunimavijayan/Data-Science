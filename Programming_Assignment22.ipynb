{
 "cells": [
  {
   "cell_type": "markdown",
   "id": "332a893a",
   "metadata": {},
   "source": [
    "Question1\n",
    "Create a function that takes three parameters where:\n",
    " x is the start of the range (inclusive).\n",
    " y is the end of the range (inclusive).\n",
    " n is the divisor to be checked against.\n",
    "Return an ordered list with numbers in the range that are divisible by the third parameter n.\n",
    "Return an empty list if there are no numbers that are divisible by n.\n",
    "Examples\n",
    "list_operation(1, 10, 3) ➞ [3, 6, 9]\n",
    "list_operation(7, 9, 2) ➞ [8]\n",
    "list_operation(15, 20, 7) ➞ []"
   ]
  },
  {
   "cell_type": "code",
   "execution_count": 4,
   "id": "612e8b60",
   "metadata": {},
   "outputs": [
    {
     "name": "stdout",
     "output_type": "stream",
     "text": [
      "7\n",
      "9\n",
      "2\n",
      "[8]\n"
     ]
    }
   ],
   "source": [
    "def func(x,y,n):\n",
    "    li=[]\n",
    "    for i in range(x,y+1):\n",
    "        if(i%n==0):\n",
    "            li.append(i)\n",
    "    li.sort()\n",
    "    return li\n",
    "\n",
    "x=int(input())\n",
    "y=int(input())\n",
    "n=int(input())\n",
    "print(func(x,y,n))"
   ]
  },
  {
   "cell_type": "markdown",
   "id": "d20316ac",
   "metadata": {},
   "source": [
    "Question2\n",
    "Create a function that takes in two lists and returns True if the second list follows the first list\n",
    "by one element, and False otherwise. In other words, determine if the second list is the first\n",
    "list shifted to the right by 1.\n",
    "Examples\n",
    "simon_says([1, 2], [5, 1]) ➞ True\n",
    "simon_says([1, 2], [5, 5]) ➞ False\n",
    "simon_says([1, 2, 3, 4, 5], [0, 1, 2, 3, 4]) ➞ True\n",
    "simon_says([1, 2, 3, 4, 5], [5, 5, 1, 2, 3]) ➞ False\n",
    "Notes\n",
    " Both input lists will be of the same length, and will have a minimum length of 2.\n",
    " The values of the 0-indexed element in the second list and the n-1th indexed element\n",
    "in the first list do not matter."
   ]
  },
  {
   "cell_type": "code",
   "execution_count": 17,
   "id": "90b9ba3b",
   "metadata": {},
   "outputs": [
    {
     "name": "stdout",
     "output_type": "stream",
     "text": [
      "[1]\n",
      "True\n"
     ]
    }
   ],
   "source": [
    "def func(li1,li2):\n",
    "    li3=[]\n",
    "    li4=[]\n",
    "    len1=len(li1)\n",
    "    li3=li2[1:]\n",
    "    li4=li1[:len1-1]\n",
    "    if(li4==li3):\n",
    "        return True\n",
    "    else:\n",
    "        return False\n",
    "        \n",
    "li1=[1, 2]\n",
    "li2= [5, 1]\n",
    "print(func(li1,li2))"
   ]
  },
  {
   "cell_type": "markdown",
   "id": "5a9ed78d",
   "metadata": {},
   "source": [
    "Question3\n",
    "A group of friends have decided to start a secret society. The name will be the first letter of\n",
    "each of their names, sorted in alphabetical order.\n",
    "Create a function that takes in a list of names and returns the name of the secret society.\n",
    "\n",
    "Examples\n",
    "society_name([\"Adam\", \"Sarah\", \"Malcolm\"]) ➞ \"AMS\"\n",
    "society_name([\"Harry\", \"Newt\", \"Luna\", \"Cho\"]) ➞ \"CHLN\"\n",
    "society_name([\"Phoebe\", \"Chandler\", \"Rachel\" \"Ross\",\"Monica\", \"Joey\"])"
   ]
  },
  {
   "cell_type": "code",
   "execution_count": 24,
   "id": "52876e8d",
   "metadata": {},
   "outputs": [
    {
     "name": "stdout",
     "output_type": "stream",
     "text": [
      "CHLN\n"
     ]
    }
   ],
   "source": [
    "def func(li):\n",
    "    res=\"\"\n",
    "    for i in li:\n",
    "        for j in i:\n",
    "            res+=j\n",
    "            break\n",
    "    res=\"\".join(sorted(res))\n",
    "    return res\n",
    "li=[\"Harry\", \"Newt\", \"Luna\", \"Cho\"]\n",
    "print(func(li))"
   ]
  },
  {
   "cell_type": "markdown",
   "id": "fd53fd9b",
   "metadata": {},
   "source": [
    "Question4\n",
    "An isogram is a word that has no duplicate letters. Create a function that takes a string and\n",
    "returns either True or False depending on whether or not it's an \"isogram\".\n",
    "Examples\n",
    "is_isogram(\"Algorism\") ➞ True\n",
    "is_isogram(\"PasSword\") ➞ False\n",
    "# Not case sensitive.\n",
    "is_isogram(\"Consecutive\") ➞ False\n",
    "Notes\n",
    " Ignore letter case (should not be case sensitive).\n",
    " All test cases contain valid one word strings."
   ]
  },
  {
   "cell_type": "code",
   "execution_count": 33,
   "id": "604d7e9f",
   "metadata": {},
   "outputs": [
    {
     "name": "stdout",
     "output_type": "stream",
     "text": [
      "True\n"
     ]
    }
   ],
   "source": [
    "def func(sent):\n",
    "    res=\"\".join(set(i.lower() for i in sent))\n",
    "    if len(res)==len(sent):\n",
    "        return True\n",
    "    else:\n",
    "        return False\n",
    "sent=\"Algorism\"\n",
    "print(func(sent))\n",
    "        \n",
    "        "
   ]
  },
  {
   "cell_type": "markdown",
   "id": "7a37a964",
   "metadata": {},
   "source": [
    "Question5\n",
    "Create a function that takes a string and returns True or False, depending on whether the\n",
    "characters are in order or not.\n",
    "Examples\n",
    "is_in_order(\"abc\") ➞ True\n",
    "is_in_order(\"edabit\") ➞ False\n",
    "is_in_order(\"123\") ➞ True\n",
    "is_in_order(\"xyzz\") ➞ True\n",
    "Notes\n",
    "You don't have to handle empty strings."
   ]
  },
  {
   "cell_type": "code",
   "execution_count": 38,
   "id": "7ed76987",
   "metadata": {},
   "outputs": [
    {
     "name": "stdout",
     "output_type": "stream",
     "text": [
      "True\n"
     ]
    }
   ],
   "source": [
    "def func(sent):\n",
    "    if sent==\"\".join(sorted(sent)):\n",
    "        return True\n",
    "    else:\n",
    "        return False\n",
    "sent=\"xyzz\"\n",
    "print(func(sent))"
   ]
  },
  {
   "cell_type": "code",
   "execution_count": null,
   "id": "e5d16eeb",
   "metadata": {},
   "outputs": [],
   "source": []
  }
 ],
 "metadata": {
  "kernelspec": {
   "display_name": "Python 3 (ipykernel)",
   "language": "python",
   "name": "python3"
  },
  "language_info": {
   "codemirror_mode": {
    "name": "ipython",
    "version": 3
   },
   "file_extension": ".py",
   "mimetype": "text/x-python",
   "name": "python",
   "nbconvert_exporter": "python",
   "pygments_lexer": "ipython3",
   "version": "3.9.12"
  }
 },
 "nbformat": 4,
 "nbformat_minor": 5
}
