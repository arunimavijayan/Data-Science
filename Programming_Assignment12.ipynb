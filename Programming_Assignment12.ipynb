{
 "cells": [
  {
   "cell_type": "code",
   "execution_count": 1,
   "id": "491bd62e",
   "metadata": {},
   "outputs": [
    {
     "name": "stdout",
     "output_type": "stream",
     "text": [
      "enter number of elements in dict:5\n",
      "enter keyhi\n",
      "enter value1\n",
      "enter keyhey\n",
      "enter value2\n",
      "enter keykkk\n",
      "enter value1\n",
      "enter keymks\n",
      "enter value2\n",
      "enter keylok\n",
      "enter value5\n",
      "1\n",
      "2\n",
      "5\n"
     ]
    }
   ],
   "source": [
    "#1. Write a Python program to Extract Unique values dictionary values?\n",
    "\n",
    "dict_={}\n",
    "n=int(input(\"enter number of elements in dict:\"))\n",
    "for i in range(n):\n",
    "    key=input(\"enter key: \")\n",
    "    value=input(\"enter value: \")\n",
    "    dict_[key]=value\n",
    "    \n",
    "for i in set(dict_.values()):\n",
    "    print(i)\n",
    "\n",
    "\n",
    "\n"
   ]
  },
  {
   "cell_type": "code",
   "execution_count": 4,
   "id": "bf9a4678",
   "metadata": {},
   "outputs": [
    {
     "name": "stdout",
     "output_type": "stream",
     "text": [
      "enter number of elements in dict:6\n",
      "enter key: 3\n",
      "enter value: 5\n",
      "enter key: v\n",
      "enter value: 1\n",
      "enter key: g\n",
      "enter value: 9\n",
      "enter key: a\n",
      "enter value: 8\n",
      "enter key: b\n",
      "enter value: 4\n",
      "enter key: nj\n",
      "enter value: 9\n",
      "sum of all items is:  36\n"
     ]
    }
   ],
   "source": [
    "#2. Write a Python program to find the sum of all items in a dictionary?\n",
    "dict_={}\n",
    "sum1=0\n",
    "n=int(input(\"enter number of elements in dict:\"))\n",
    "for i in range(n):\n",
    "    key=input(\"enter key: \")\n",
    "    value=int(input(\"enter value: \"))\n",
    "    dict_[key]=value\n",
    "    \n",
    "for i in dict_.values():\n",
    "    sum1=sum1+i\n",
    "    \n",
    "print(\"sum of all items is: \",sum1)"
   ]
  },
  {
   "cell_type": "code",
   "execution_count": 8,
   "id": "c8a1cb1c",
   "metadata": {},
   "outputs": [
    {
     "name": "stdout",
     "output_type": "stream",
     "text": [
      "enter number of elements in dict:4\n",
      "enter key: a\n",
      "enter value: 1\n",
      "enter key: b\n",
      "enter value: 2\n",
      "enter key: c\n",
      "enter value: 3\n",
      "enter key: d\n",
      "enter value: 4\n",
      "enter key: e\n",
      "enter value: 5\n",
      "enter key: f\n",
      "enter value: 6\n",
      "enter key: g\n",
      "enter value: 7\n",
      "enter key: h\n",
      "enter value: 8\n",
      "{'a': 1, 'b': 2, 'c': 3, 'd': 4, 'e': 5, 'f': 6, 'g': 7, 'h': 8}\n"
     ]
    }
   ],
   "source": [
    "#3. Write a Python program to Merging two Dictionaries?\n",
    "\n",
    "dict_1={}\n",
    "dict_2={}\n",
    "n=int(input(\"enter number of elements in dict:\"))\n",
    "for i in range(n):\n",
    "    key=input(\"enter key: \")\n",
    "    value=int(input(\"enter value: \"))\n",
    "    dict_1[key]=value\n",
    "  \n",
    "for i in range(n):\n",
    "    key=input(\"enter key: \")\n",
    "    value=int(input(\"enter value: \"))\n",
    "    dict_2[key]=value\n",
    " \n",
    "print({**dict_1, **dict_2})"
   ]
  },
  {
   "cell_type": "code",
   "execution_count": 17,
   "id": "5282306d",
   "metadata": {},
   "outputs": [
    {
     "name": "stdout",
     "output_type": "stream",
     "text": [
      "Dictionary:  {'language': ['python', 'java', 'c/c++', 'javascript'], 'year': [1991, 1995, 1980, 1995]}\n",
      "Flattened Dictionary:  {'python': 1991, 'java': 1995, 'c/c++': 1980, 'javascript': 1995}\n"
     ]
    }
   ],
   "source": [
    "#4. Write a Python program to convert key-values list to flat dictionary?\n",
    "dict_1={'language' : ['python', 'java', 'c/c++', 'javascript'], 'year' : [1991, 1995, 1980, 1995]}\n",
    "res={}\n",
    "print(\"Dictionary: \",str(dict_1))    \n",
    "res= dict(zip(dict_1['language'], dict_1['year']))\n",
    "print(\"Flattened Dictionary: \",str(res))"
   ]
  },
  {
   "cell_type": "code",
   "execution_count": 18,
   "id": "28f64b42",
   "metadata": {},
   "outputs": [
    {
     "name": "stdout",
     "output_type": "stream",
     "text": [
      "enter number of elements in dict:2\n",
      "enter key: a\n",
      "enter value: 1\n",
      "enter key: b\n",
      "enter value: 2\n",
      "enter key to be added: c\n",
      "eneter value to be added: 3\n",
      "OrderedDict([('a', 1), ('b', 2), ('c', '3')])\n",
      "Resultant Dictionary :\n",
      "OrderedDict([('c', '3'), ('a', 1), ('b', 2)])\n"
     ]
    }
   ],
   "source": [
    "#5. Write a Python program to insertion at the beginning in OrderedDict?\n",
    "from collections import OrderedDict  \n",
    "dict_1 = OrderedDict()\n",
    "n=int(input(\"enter number of elements in dict:\"))\n",
    "for i in range(n):\n",
    "    key=input(\"enter key: \")\n",
    "    value=int(input(\"enter value: \"))\n",
    "    dict_1[key]=value\n",
    "    \n",
    "ke1=input(\"enter key to be added: \")\n",
    "va1=input(\"eneter value to be added: \")\n",
    "dict_1.update({ke1:va1})\n",
    "print(dict_1)\n",
    "\n",
    "dict_1.move_to_end(ke1, last=False)\n",
    "  \n",
    "\n",
    "print (\"ordered Dictionary :\")\n",
    "print(dict_1)"
   ]
  },
  {
   "cell_type": "code",
   "execution_count": 31,
   "id": "9cf2833c",
   "metadata": {},
   "outputs": [
    {
     "name": "stdout",
     "output_type": "stream",
     "text": [
      "enter the string engineers rock\n",
      "enter pattern to be checked: gsr\n",
      "False\n"
     ]
    }
   ],
   "source": [
    "#6. Write a Python program to check order of character in string using OrderedDict()?\n",
    "from collections import OrderedDict  \n",
    "\n",
    "sent=input(\"enter the string \")\n",
    "dict_1 = OrderedDict.fromkeys(sent)\n",
    "\n",
    "str1=input(\"enter pattern to be checked: \")\n",
    "\n",
    "\n",
    "# print(dict_1)\n",
    "def order_dict(dict_1,str1):\n",
    "    p=0\n",
    "    l_str1=len(str1)\n",
    "    for k,v in dict_1.items():\n",
    "        if(k==str1[p]):\n",
    "            p=p+1\n",
    "\n",
    "        if(p==l_str1):\n",
    "            return 'True'\n",
    "    else:\n",
    "        return 'False'\n",
    "\n",
    "print(order_dict(dict_1,str1))"
   ]
  },
  {
   "cell_type": "code",
   "execution_count": null,
   "id": "19ecf218",
   "metadata": {},
   "outputs": [],
   "source": [
    "#7. Write a Python program to sort Python Dictionaries by Key or Value?\n",
    "dict_={}\n",
    "n=int(input(\"enter number of elements in dict:\"))\n",
    "for i in range(n):\n",
    "    key=input(\"enter key: \")\n",
    "    value=int(input(\"enter value: \"))\n",
    "    dict_[key]=value\n",
    "    \n",
    "def so_key(dict_):    \n",
    "    for i in sorted(dict_):\n",
    "        print ((i, dict_[i]), end =\" \")\n",
    "                \n",
    "ch=input(\"enter whether u want to sort by key/value: k/v \")\n",
    "if(ch=='k'):\n",
    "    print(so_key(dict_))\n",
    "elif(ch=='v'):\n",
    "    print(sorted(dict_.items(), key=lambda keyval: (keyval[1], keyval[0])))\n",
    "else:\n",
    "    print(\"enter correct input: \")"
   ]
  },
  {
   "cell_type": "code",
   "execution_count": null,
   "id": "359b9406",
   "metadata": {},
   "outputs": [],
   "source": []
  }
 ],
 "metadata": {
  "kernelspec": {
   "display_name": "Python 3 (ipykernel)",
   "language": "python",
   "name": "python3"
  },
  "language_info": {
   "codemirror_mode": {
    "name": "ipython",
    "version": 3
   },
   "file_extension": ".py",
   "mimetype": "text/x-python",
   "name": "python",
   "nbconvert_exporter": "python",
   "pygments_lexer": "ipython3",
   "version": "3.9.12"
  }
 },
 "nbformat": 4,
 "nbformat_minor": 5
}
