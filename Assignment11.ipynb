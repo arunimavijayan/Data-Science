{
 "cells": [
  {
   "cell_type": "markdown",
   "id": "12adc870",
   "metadata": {},
   "source": [
    "1. Create an assert statement that throws an AssertionError if the variable spam is a negative integer.\n",
    "\n",
    "assert spam <0, 'spam cannot be negative!!.'\n",
    "\n",
    "2. Write an assert statement that triggers an AssertionError if the variables eggs and bacon contain strings that are the same as each other, even if their cases are different (that is, 'hello' and 'hello' are considered the same, and 'goodbye' and 'GOODbye' are also considered the same).\n",
    "\n",
    "assert eggs.lower() != bacon.lower(), 'Variables contain same value!' or assert eggs.upper() != bacon.upper(), 'Variables contain same value!'\n",
    "\n",
    "3. Create an assert statement that throws an AssertionError every time.\n",
    "\n",
    "assert False, 'Error always!.'\n",
    "\n",
    "4. What are the two lines that must be present in your software in order to call logging.debug()?\n",
    "\n",
    "import logging\n",
    "logging.basicConfig(level=logging.DEBUG, format=' %(asctime)s - %(levelname)s - %(message)s')\n",
    "\n",
    "5. What are the two lines that your program must have in order to have logging.debug() send a logging message to a file named programLog.txt?\n",
    "\n",
    "import logging\n",
    "logging.basicConfig(filename='programLog.txt', level=logging.DEBUG,format=' %(asctime)s - %(levelname)s - %(message)s')\n",
    "\n",
    "6. What are the five levels of logging?\n",
    "\n",
    "DEBUG, INFO, WARNING, ERROR, and CRITICAL\n",
    "\n",
    "7. What line of code would you add to your software to disable all logging messages?\n",
    "\n",
    "logging.disable(logging.CRITICAL)\n",
    "\n",
    "8.Why is using logging messages better than using print() to display the same message?\n",
    "\n",
    "we can disable logging messages without removing the logging function calls and  selectively disable lower-level logging messages.It also provides a timestamp.\n",
    "\n",
    "9. What are the differences between the Step Over, Step In, and Step Out buttons in the debugger?\n",
    "\n",
    "Step over->lets the application execute the next action, if that  involves a call to an operation, it does not step into its implementation (it steps over it instead).\n",
    "Step in->lets the application execute the next action and if that involves a call to an operation, it steps into its implementation and breaks the execution on the first action of that implementation.\n",
    "Step out->lets the application execute until the current operation implementation is returned.\n",
    "\n",
    "10.After you click Continue, when will the debugger stop ?\n",
    "\n",
    " will stop when it reaches the end of the program or a line with a breakpoint.\n",
    "\n",
    "11. What is the concept of a breakpoint?\n",
    "\n",
    "It is a setting on a line of code that causes the debugger to pause when the program execution reaches the line.\n"
   ]
  },
  {
   "cell_type": "code",
   "execution_count": null,
   "id": "96080bbb",
   "metadata": {},
   "outputs": [],
   "source": []
  }
 ],
 "metadata": {
  "kernelspec": {
   "display_name": "Python 3 (ipykernel)",
   "language": "python",
   "name": "python3"
  },
  "language_info": {
   "codemirror_mode": {
    "name": "ipython",
    "version": 3
   },
   "file_extension": ".py",
   "mimetype": "text/x-python",
   "name": "python",
   "nbconvert_exporter": "python",
   "pygments_lexer": "ipython3",
   "version": "3.9.12"
  }
 },
 "nbformat": 4,
 "nbformat_minor": 5
}
