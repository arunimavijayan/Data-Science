{
 "cells": [
  {
   "cell_type": "markdown",
   "id": "07553900",
   "metadata": {},
   "source": [
    "1. What does RGBA stand for?\n",
    "\n",
    "RGBA stands for red, green, blue, and alpha (transparency) in the color\n",
    "An RGBA value is a tuple of 4 integers, each ranging from 0 to 255. The four integers correspond to the amount of red, green, blue, and alpha (transparency) in the color\n",
    "\n",
    "2. From the Pillow module, how do you get the RGBA value of any images?\n",
    "\n",
    "from PIL import Image\n",
    "  \n",
    "img = Image.open('image.png')\n",
    "rgba = img.convert(\"RGBA\")\n",
    "datas = rgba.getdata()\n",
    "\n",
    "3. What is a box tuple, and how does it work?\n",
    "\n",
    "A box tuple is a tuple value of four integers: the left edge x-coordinate, the top edge y-coordinate, The x-coordinate of one pixel to the right of the rightmost edge of the box, and the height, respectively\n",
    "\n",
    "4. Use your image and load in notebook then, How can you find out the width and height of an Image object?\n",
    "\n",
    "from google.colab import files\n",
    "uploaded = files.upload()\n",
    "\n",
    "from PIL import Image\n",
    "myImg = Image.open('shiva.jpg')\n",
    "w,h = myImg.size\n",
    "w,h\n",
    "\n",
    "5. What method would you call to get Image object for a 100×100 image, excluding the lower-left quarter of it?\n",
    "\n",
    " ImageObject.crop((0, 50, 50, 50))\n",
    "\n",
    "6. After making changes to an Image object, how could you save it as an image file?\n",
    "\n",
    "By Calling the imageObj.save('new_filename.png') method of the Image object.\n",
    "\n",
    "7. What module contains Pillow’s shape-drawing code?\n",
    "\n",
    " The ImageDraw module contains code to draw on images\n",
    "\n",
    "8. Image objects do not have drawing methods. What kind of object does? How do you get this kind of object?\n",
    "\n",
    " ImageDraw objects have shape-drawing methods such as point(), line(), or rectangle(). They are returned by passing the Image object to the ImageDraw.Draw() function\n"
   ]
  },
  {
   "cell_type": "code",
   "execution_count": null,
   "id": "eca128f4",
   "metadata": {},
   "outputs": [],
   "source": []
  }
 ],
 "metadata": {
  "kernelspec": {
   "display_name": "Python 3 (ipykernel)",
   "language": "python",
   "name": "python3"
  },
  "language_info": {
   "codemirror_mode": {
    "name": "ipython",
    "version": 3
   },
   "file_extension": ".py",
   "mimetype": "text/x-python",
   "name": "python",
   "nbconvert_exporter": "python",
   "pygments_lexer": "ipython3",
   "version": "3.9.12"
  }
 },
 "nbformat": 4,
 "nbformat_minor": 5
}
