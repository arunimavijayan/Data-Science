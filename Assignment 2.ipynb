{
 "cells": [
  {
   "cell_type": "markdown",
   "id": "f6b97005",
   "metadata": {},
   "source": [
    "# ASSIGNMENT 2\n"
   ]
  },
  {
   "cell_type": "markdown",
   "id": "478ea0ec",
   "metadata": {},
   "source": [
    "1.What are the two values of the Boolean data type? How do you write them?\n",
    "\n",
    "The two values of boolean are True and False, where the first letter of both are in capital and rest in lowercase.\n",
    "      eg. a=True\n",
    "\n"
   ]
  },
  {
   "cell_type": "markdown",
   "id": "85fa61d0",
   "metadata": {},
   "source": [
    "2. What are the three different types of Boolean operators?\n",
    "\n",
    "The three different types of Boolean operators are and,or,not.\n",
    "        and->return True if both condition is True \n",
    "        or-> return True if either or both of condition is True else False\n",
    "        not->return the opposite of the result that is if the condition corresponds to True then it return False and vice versa"
   ]
  },
  {
   "cell_type": "markdown",
   "id": "00122b35",
   "metadata": {},
   "source": [
    "3. Make a list of each Boolean operator's truth tables (i.e. every possible combination of Boolean\n",
    "values for the operator and what it evaluate ).\n",
    "\n",
    "True and True is True\n",
    "True and False is False\n",
    "False and True is False\n",
    "False and False is False\n",
    "True or True is True\n",
    "True or False is True\n",
    "False or True is True\n",
    "False or False is False\n",
    "not True is False \n",
    "not False is True\n",
    "    "
   ]
  },
  {
   "cell_type": "markdown",
   "id": "6a6c93ec",
   "metadata": {},
   "source": [
    "4. What are the values of the following expressions?\n",
    "\n",
    "(5 > 4) and (3 == 5) --------------------------->False\n",
    "not (5 > 4)------------------------------------->False\n",
    "(5 > 4) or (3 == 5)----------------------------->True\n",
    "not ((5 > 4) or (3 == 5))----------------------->False\n",
    "(True and True) and (True == False)------------->False\n",
    "(not False) or (not True)----------------------->True"
   ]
  },
  {
   "cell_type": "markdown",
   "id": "fda340dc",
   "metadata": {},
   "source": [
    "5. What are the six comparison operators?\n",
    "\n",
    "==(is equals to), !=(is not equals to), >=(greater than or equals to),<=(less than or equals to),<(less than),>(greater than)"
   ]
  },
  {
   "cell_type": "markdown",
   "id": "ce804054",
   "metadata": {},
   "source": [
    "6. How do you tell the difference between the equal to and assignment operators?Describe a condition and when you would use one.\n",
    "\n",
    "== is the equals to operator that compares two values and results in a Boolean Value, while = is the assignment operator that stores a value in a variable.\n",
    "A condition is an expression used in a flow control statement that results in a Boolean value.Wewould use a condition where we want to filter the required output . e.g if we want to get only even number from 1 to 10 then we would filter out the number by giving condition (num%2==0)\n"
   ]
  },
  {
   "cell_type": "markdown",
   "id": "0551bf57",
   "metadata": {},
   "source": [
    "7. Identify the three blocks in this code:\n",
    "spam = 0\n",
    "if spam == 10:\n",
    "print('eggs')\n",
    "if spam> 5:\n",
    "print('bacon')\n",
    "else:\n",
    "print('ham')\n",
    "print('spam')\n",
    "print('spam')\n",
    "\n",
    "\n",
    "whatever is inside if and else are the three blocks in the code.It prints eggs, bacon,ham\n",
    "if spam == 10:\n",
    "    print('eggs')\n",
    "    \n",
    "if spam> 5:\n",
    "    print('bacon')   \n",
    "    \n",
    "else:\n",
    "    print('ham') "
   ]
  },
  {
   "cell_type": "markdown",
   "id": "f6e6f40b",
   "metadata": {},
   "source": [
    "8. Write code that prints Hello if 1 is stored in spam, prints Howdy if 2 is stored in spam, and prints\n",
    "Greetings! if anything else is stored in spam.\n",
    "\n",
    "spam=9\n",
    "if(spam==1):\n",
    "    print('Hello')\n",
    "elif(spam==2):\n",
    "    print('Howdy')\n",
    "else:\n",
    "    print('Greetings')"
   ]
  },
  {
   "cell_type": "markdown",
   "id": "dee8184f",
   "metadata": {},
   "source": [
    "9.If your programme is stuck in an endless loop, what keys you’ll press?\n",
    "\n",
    "ctrl+c"
   ]
  },
  {
   "cell_type": "markdown",
   "id": "9549e451",
   "metadata": {},
   "source": [
    "10. How can you tell the difference between break and continue?\n",
    "\n",
    "The main difference between both the statements is that break terminates the execution of the current loop and passes the\n",
    "control over the next loop or main body,whereas when continue keyword skips the current iteration and executes the \n",
    "very next iteration in the loop."
   ]
  },
  {
   "cell_type": "markdown",
   "id": "3bb7ff2e",
   "metadata": {},
   "source": [
    "11. In a for loop, what is the difference between range(10), range(0, 10), and range(0, 10, 1)?\n",
    "\n",
    "the main syntax of range is range(start,stop,step)\n",
    "\n",
    "By default start is 0 it is the point from where the sequence should start, stop is till where we have to run the loop i.e the stopping condition, step is the incrementor/decrementor between the number in sequence by default it is 1\n",
    "start and step are optional if the default values are the desired ones otherwise we can change it according to our need\n",
    "\n",
    "The given three statement produce the same output \n",
    "range(10)->0,1,2,3,4,5,6,7,8,9\n",
    "range(0,10)->0,1,2,3,4,5,6,7,8,9\n",
    "range(0,10,1)->0,1,2,3,4,5,6,7,8,9\n"
   ]
  },
  {
   "cell_type": "markdown",
   "id": "57c8ccfa",
   "metadata": {},
   "source": [
    "12. Write a short program that prints the numbers 1 to 10 using a for loop. Then write an equivalent\n",
    "    program that prints the numbers 1 to 10 using a while loop.\n",
    "    \n",
    "FOR LOOP  \n",
    "\n",
    "for i in range(1,11):\n",
    "     print(i)\n",
    "     \n",
    "WHILE LOOP  \n",
    "\n",
    "i=1     \n",
    "while(i<11):\n",
    "    print(i)\n",
    "    i+=1\n",
    "    \n",
    "        \n",
    "        \n",
    "        "
   ]
  },
  {
   "cell_type": "markdown",
   "id": "3d844ba1",
   "metadata": {},
   "source": [
    "13. If you had a function named bacon() inside a module named spam, how would you call it after importing spam?\n",
    "\n",
    "spam.bacon()"
   ]
  }
 ],
 "metadata": {
  "kernelspec": {
   "display_name": "Python 3 (ipykernel)",
   "language": "python",
   "name": "python3"
  },
  "language_info": {
   "codemirror_mode": {
    "name": "ipython",
    "version": 3
   },
   "file_extension": ".py",
   "mimetype": "text/x-python",
   "name": "python",
   "nbconvert_exporter": "python",
   "pygments_lexer": "ipython3",
   "version": "3.9.12"
  }
 },
 "nbformat": 4,
 "nbformat_minor": 5
}
