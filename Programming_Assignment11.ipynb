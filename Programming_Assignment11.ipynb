{
 "cells": [
  {
   "cell_type": "code",
   "execution_count": 11,
   "id": "153b1cd1",
   "metadata": {},
   "outputs": [
    {
     "name": "stdout",
     "output_type": "stream",
     "text": [
      "i am jj kog kugbnn\n",
      "enter word length to be sorted: 2\n",
      "['i', 'am', 'jj', 'kog', 'kugbnn']\n",
      "kog\n",
      "kugbnn\n"
     ]
    }
   ],
   "source": [
    "#1. Write a Python program to find words which are greater than given length k?\n",
    "sent=input()\n",
    "k=int(input(\"enter word length to be sorted: \"))\n",
    "li=sent.split(\" \")\n",
    "for i in li:\n",
    "    if(len(i)>k):\n",
    "        print(i)\n",
    "    \n"
   ]
  },
  {
   "cell_type": "code",
   "execution_count": 18,
   "id": "88a5cede",
   "metadata": {},
   "outputs": [
    {
     "name": "stdout",
     "output_type": "stream",
     "text": [
      "arunnima\n",
      "enter i-th character 4\n",
      "arunima\n"
     ]
    }
   ],
   "source": [
    "#2. Write a Python program for removing i-th character from a string?\n",
    "sent=input()\n",
    "k=int(input(\"enter i-th character \"))\n",
    "res=sent[0:k]+sent[k+1:] \n",
    "print(res)"
   ]
  },
  {
   "cell_type": "code",
   "execution_count": 19,
   "id": "c1c45aee",
   "metadata": {},
   "outputs": [
    {
     "name": "stdout",
     "output_type": "stream",
     "text": [
      "hi there\n",
      "After splitting: \n",
      "['hi', 'there']\n",
      "After joining : \n",
      "hi there\n"
     ]
    }
   ],
   "source": [
    "#3. Write a Python program to split and join a string?\n",
    "sent=input().split(\" \")\n",
    "print(\"After splitting: \")\n",
    "print(sent)\n",
    "print(\"After joining : \")\n",
    "print(\" \".join(sent))\n",
    "\n"
   ]
  },
  {
   "cell_type": "code",
   "execution_count": 34,
   "id": "1375da53",
   "metadata": {},
   "outputs": [
    {
     "name": "stdout",
     "output_type": "stream",
     "text": [
      "100000111110111\n",
      "Binary String \n"
     ]
    }
   ],
   "source": [
    "#4. Write a Python to check if a given string is binary string or not?\n",
    "sent=input()\n",
    "l=0\n",
    "p='01'\n",
    "for i in sent:\n",
    "    if(i not in p):\n",
    "        l=1\n",
    "        break\n",
    "    else:\n",
    "        pass\n",
    "if(l!=1):\n",
    "    print(\"Binary String \")\n",
    "else:\n",
    "    print(\"Not Binary \")"
   ]
  },
  {
   "cell_type": "code",
   "execution_count": 37,
   "id": "c27b5290",
   "metadata": {},
   "outputs": [
    {
     "name": "stdout",
     "output_type": "stream",
     "text": [
      "hi i am arunima\n",
      "hi i am akshara\n",
      "arunima\n",
      "akshara\n"
     ]
    }
   ],
   "source": [
    "#5. Write a Python program to find uncommon words from two Strings?\n",
    "str1=input().split(\" \")\n",
    "str2=input().split(\" \")\n",
    "str3=str1+str2\n",
    "for i in str3:\n",
    "    if(i not in str1 ):\n",
    "        print(i)\n",
    "    elif(i not in str2):\n",
    "        print(i)\n",
    "    else:\n",
    "        pass"
   ]
  },
  {
   "cell_type": "code",
   "execution_count": 44,
   "id": "d3844f97",
   "metadata": {},
   "outputs": [
    {
     "name": "stdout",
     "output_type": "stream",
     "text": [
      "heloarunimahelo\n",
      "l\n",
      "a\n",
      "o\n",
      "e\n",
      "h\n"
     ]
    }
   ],
   "source": [
    "#6. Write a Python to find all duplicate characters in string?\n",
    "sent=input()\n",
    "for i in set(sent):\n",
    "    if(sent.count(i)>1):\n",
    "        print(i)\n",
    "    "
   ]
  },
  {
   "cell_type": "code",
   "execution_count": 46,
   "id": "48066f3e",
   "metadata": {},
   "outputs": [
    {
     "name": "stdout",
     "output_type": "stream",
     "text": [
      "aru!%nima\n",
      "contains special character \n"
     ]
    }
   ],
   "source": [
    "#7. Write a Python Program to check if a string contains any special character?\n",
    "spe='''#@%&*!(){}><?:\"\"{}'''\n",
    "sent=input()\n",
    "c=0\n",
    "for i in sent:\n",
    "    if i in spe:\n",
    "        c=1\n",
    "    else:\n",
    "        pass\n",
    "if(c==1):\n",
    "    print(\"contains special character \")\n",
    "else:\n",
    "    print(\" does not contains special character\")"
   ]
  },
  {
   "cell_type": "code",
   "execution_count": null,
   "id": "abc1e9eb",
   "metadata": {},
   "outputs": [],
   "source": []
  }
 ],
 "metadata": {
  "kernelspec": {
   "display_name": "Python 3 (ipykernel)",
   "language": "python",
   "name": "python3"
  },
  "language_info": {
   "codemirror_mode": {
    "name": "ipython",
    "version": 3
   },
   "file_extension": ".py",
   "mimetype": "text/x-python",
   "name": "python",
   "nbconvert_exporter": "python",
   "pygments_lexer": "ipython3",
   "version": "3.9.12"
  }
 },
 "nbformat": 4,
 "nbformat_minor": 5
}
