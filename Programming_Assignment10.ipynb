{
 "cells": [
  {
   "cell_type": "code",
   "execution_count": 3,
   "id": "8b6bba27",
   "metadata": {},
   "outputs": [
    {
     "name": "stdout",
     "output_type": "stream",
     "text": [
      "enter number of elements in list:5\n",
      "10\n",
      "10\n",
      "10\n",
      "10\n",
      "20\n",
      "60\n"
     ]
    }
   ],
   "source": [
    "#1. Write a Python program to find sum of elements in list?\n",
    "li=[]\n",
    "n=int(input(\"enter number of elements in list:\"))\n",
    "for i in range(n):\n",
    "    el=int(input())\n",
    "    li.append(el)\n",
    "\n",
    "print(sum(li)) \n",
    "\n"
   ]
  },
  {
   "cell_type": "code",
   "execution_count": 4,
   "id": "19af3134",
   "metadata": {},
   "outputs": [
    {
     "name": "stdout",
     "output_type": "stream",
     "text": [
      "enter number of elements in list:4\n",
      "1\n",
      "2\n",
      "3\n",
      "4\n",
      "24\n"
     ]
    }
   ],
   "source": [
    "#2. Write a Python program to Multiply all numbers in the list?\n",
    "li=[]\n",
    "mul=1\n",
    "n=int(input(\"enter number of elements in list:\"))\n",
    "for i in range(n):\n",
    "    el=int(input())\n",
    "    li.append(el)\n",
    "\n",
    "for i in li:\n",
    "    mul*=i\n",
    "print(mul)"
   ]
  },
  {
   "cell_type": "code",
   "execution_count": 6,
   "id": "4f93ddb7",
   "metadata": {},
   "outputs": [
    {
     "name": "stdout",
     "output_type": "stream",
     "text": [
      "enter number of elements in list:4\n",
      "2\n",
      "8\n",
      "3\n",
      "1\n",
      "min element:  1\n"
     ]
    }
   ],
   "source": [
    "#3. Write a Python program to find smallest number in a list?\n",
    "li=[]\n",
    "n=int(input(\"enter number of elements in list:\"))\n",
    "for i in range(n):\n",
    "    el=int(input())\n",
    "    li.append(el)\n",
    "print(\"min element: \",min(li))"
   ]
  },
  {
   "cell_type": "code",
   "execution_count": 7,
   "id": "c2e460bf",
   "metadata": {},
   "outputs": [
    {
     "name": "stdout",
     "output_type": "stream",
     "text": [
      "enter number of elements in list:4\n",
      "5\n",
      "9\n",
      "2\n",
      "1\n",
      "max element:  9\n"
     ]
    }
   ],
   "source": [
    "#4. Write a Python program to find largest number in a list?\n",
    "li=[]\n",
    "n=int(input(\"enter number of elements in list:\"))\n",
    "for i in range(n):\n",
    "    el=int(input())\n",
    "    li.append(el)\n",
    "print(\"max element: \",max(li))"
   ]
  },
  {
   "cell_type": "code",
   "execution_count": 16,
   "id": "c8921c4d",
   "metadata": {},
   "outputs": [
    {
     "name": "stdout",
     "output_type": "stream",
     "text": [
      "enter number of elements in list:5\n",
      "1\n",
      "8\n",
      "4\n",
      "3\n",
      "9\n",
      "Second largest is:  [8]\n"
     ]
    }
   ],
   "source": [
    "#5. Write a Python program to find second largest number in a list?\n",
    "li=[]\n",
    "n=int(input(\"enter number of elements in list:\"))\n",
    "for i in range(n):\n",
    "    el=int(input())\n",
    "    li.append(el)\n",
    "li.sort(reverse=True)\n",
    "print(\"Second largest is: \",li[1:2])"
   ]
  },
  {
   "cell_type": "code",
   "execution_count": 20,
   "id": "b541502a",
   "metadata": {},
   "outputs": [
    {
     "name": "stdout",
     "output_type": "stream",
     "text": [
      "enter number of elements in list:6\n",
      "enter number of largest elements:3\n",
      "9\n",
      "2\n",
      "5\n",
      "7\n",
      "1\n",
      "5\n",
      "Second largest is:  [9, 7, 5]\n"
     ]
    }
   ],
   "source": [
    "#6. Write a Python program to find N largest elements from a list?\n",
    "li=[]\n",
    "n=int(input(\"enter number of elements in list:\"))\n",
    "N=int(input(\"enter number of largest elements:\"))\n",
    "for i in range(n):\n",
    "    el=int(input())\n",
    "    li.append(el)\n",
    "li.sort(reverse=True)\n",
    "print(\"Second largest is: \",li[0:N])"
   ]
  },
  {
   "cell_type": "code",
   "execution_count": 25,
   "id": "4182a2e2",
   "metadata": {},
   "outputs": [
    {
     "name": "stdout",
     "output_type": "stream",
     "text": [
      "enter number of elements in list:6\n",
      "1\n",
      "9\n",
      "6\n",
      "4\n",
      "2\n",
      "8\n",
      "EVEN NUMBERS: \n",
      "6\n",
      "4\n",
      "2\n",
      "8\n"
     ]
    }
   ],
   "source": [
    "#7. Write a Python program to print even numbers in a list?\n",
    "li=[]\n",
    "n=int(input(\"enter number of elements in list:\"))\n",
    "for i in range(n):\n",
    "    el=int(input())\n",
    "    li.append(el)\n",
    "\n",
    "print(\"EVEN NUMBERS: \")\n",
    "for i in li:\n",
    "    if(i%2==0):\n",
    "        print(i)\n"
   ]
  },
  {
   "cell_type": "code",
   "execution_count": 26,
   "id": "3775831f",
   "metadata": {},
   "outputs": [
    {
     "name": "stdout",
     "output_type": "stream",
     "text": [
      "enter number of elements in list:6\n",
      "1\n",
      "3\n",
      "2\n",
      "5\n",
      "4\n",
      "8\n",
      "ODD NUMBERS: \n",
      "1\n",
      "3\n",
      "5\n"
     ]
    }
   ],
   "source": [
    "#8. Write a Python program to print odd numbers in a List?\n",
    "li=[]\n",
    "n=int(input(\"enter number of elements in list:\"))\n",
    "for i in range(n):\n",
    "    el=int(input())\n",
    "    li.append(el)\n",
    "\n",
    "print(\"ODD NUMBERS: \")\n",
    "for i in li:\n",
    "    if(i%2!=0):\n",
    "        print(i)"
   ]
  },
  {
   "cell_type": "code",
   "execution_count": 45,
   "id": "5943f05c",
   "metadata": {},
   "outputs": [
    {
     "name": "stdout",
     "output_type": "stream",
     "text": [
      "enter number of elements in list:5\n",
      "2\n",
      "[]\n",
      "6\n",
      "[]\n",
      "4\n",
      "['2', '6', '4']\n"
     ]
    }
   ],
   "source": [
    "#9. Write a Python program to Remove empty List from List?\n",
    "li=[]\n",
    "res=[]\n",
    "n=int(input(\"enter number of elements in list:\"))\n",
    "for i in range(n):\n",
    "    el=input()\n",
    "    li.append(el)\n",
    "res=[ele for ele in li if ele != '[]']\n",
    "print(res)"
   ]
  },
  {
   "cell_type": "code",
   "execution_count": 46,
   "id": "18a63140",
   "metadata": {},
   "outputs": [
    {
     "name": "stdout",
     "output_type": "stream",
     "text": [
      "enter number of elements in list:5\n",
      "3\n",
      "2\n",
      "1\n",
      "4\n",
      "6\n",
      "['3', '2', '1', '4', '6']\n",
      "cloned list:  ['3', '2', '1', '4', '6']\n"
     ]
    }
   ],
   "source": [
    "#10. Write a Python program to Cloning or Copying a list?\n",
    "li=[]\n",
    "res=[]\n",
    "n=int(input(\"enter number of elements in list:\"))\n",
    "for i in range(n):\n",
    "    el=input()\n",
    "    li.append(el)\n",
    "    \n",
    "print(li)\n",
    "res=li[0:n]\n",
    "print(\"cloned list: \",res)"
   ]
  },
  {
   "cell_type": "code",
   "execution_count": 28,
   "id": "e89d6258",
   "metadata": {},
   "outputs": [
    {
     "name": "stdout",
     "output_type": "stream",
     "text": [
      "enter number of elements in list:6\n",
      "1\n",
      "3\n",
      "1\n",
      "4\n",
      "2\n",
      "1\n",
      "1 : 3\n",
      "2 : 1\n",
      "3 : 1\n",
      "4 : 1\n"
     ]
    }
   ],
   "source": [
    "#11. Write a Python program to Count occurrences of an element in a list?\n",
    "li=[]\n",
    "n=int(input(\"enter number of elements in list:\"))\n",
    "for i in range(n):\n",
    "    el=int(input())\n",
    "    li.append(el)\n",
    "\n",
    "for i in set(li):\n",
    "    print(i,\":\",li.count(i))"
   ]
  }
 ],
 "metadata": {
  "kernelspec": {
   "display_name": "Python 3 (ipykernel)",
   "language": "python",
   "name": "python3"
  },
  "language_info": {
   "codemirror_mode": {
    "name": "ipython",
    "version": 3
   },
   "file_extension": ".py",
   "mimetype": "text/x-python",
   "name": "python",
   "nbconvert_exporter": "python",
   "pygments_lexer": "ipython3",
   "version": "3.9.12"
  }
 },
 "nbformat": 4,
 "nbformat_minor": 5
}
