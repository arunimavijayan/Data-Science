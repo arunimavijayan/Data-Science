{
 "cells": [
  {
   "cell_type": "markdown",
   "id": "8d3d1e3e",
   "metadata": {},
   "source": [
    "1) . What is the difference between enclosing a list comprehension in square brackets and parentheses?\n",
    "\n",
    "A list comprehension is enclosed in square brackets while a generator expression is enclosed within parentheses.\n",
    "\n",
    "2) What is the relationship between generators and iterators?\n",
    "\n",
    "Iterators are objects which use next() method to get the next value of the sequence while generator is another way of creating a iterator that produces or yields a sequence of values using a yield statement\n",
    "\n",
    "3) What are the signs that a function is a generator function?\n",
    "\n",
    "If a function contains at least one yield statement it is a generator function\n",
    "\n",
    "4) What is the purpose of a yield statement?\n",
    "\n",
    "yield statement suspends function's execution and sends a value back to the caller, but retains  state to enable function to resume  from where it was left off. When resumed, the function continues execution immediately after the last yield run\n",
    "\n",
    "5) What is the relationship between map calls and list comprehensions? Make a comparison and contrast between the two.\n",
    "\n",
    "List comprehension is more concise and easier to read as compared to map\n",
    "List comprehension allows filtering. In map, no such facility\n",
    "List comprehension are used when a list of results is required since map only returns a map object \n",
    "Map is faster in case of calling an already defined function otherwise slow if some expression needs to be evaluated\n",
    "\n"
   ]
  }
 ],
 "metadata": {
  "kernelspec": {
   "display_name": "Python 3 (ipykernel)",
   "language": "python",
   "name": "python3"
  },
  "language_info": {
   "codemirror_mode": {
    "name": "ipython",
    "version": 3
   },
   "file_extension": ".py",
   "mimetype": "text/x-python",
   "name": "python",
   "nbconvert_exporter": "python",
   "pygments_lexer": "ipython3",
   "version": "3.9.12"
  }
 },
 "nbformat": 4,
 "nbformat_minor": 5
}
